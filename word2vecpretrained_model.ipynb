{
  "cells": [
    {
      "cell_type": "markdown",
      "metadata": {
        "id": "view-in-github",
        "colab_type": "text"
      },
      "source": [
        "<a href=\"https://colab.research.google.com/github/BwdYj3108/Nidhi/blob/main/word2vecpretrained_model.ipynb\" target=\"_parent\"><img src=\"https://colab.research.google.com/assets/colab-badge.svg\" alt=\"Open In Colab\"/></a>"
      ]
    },
    {
      "cell_type": "code",
      "execution_count": null,
      "metadata": {
        "id": "hguTfERbQNx2"
      },
      "outputs": [],
      "source": [
        "!pip install --upgrade gensim -q\n",
        "!pip install matplotlib -q"
      ]
    },
    {
      "cell_type": "code",
      "execution_count": null,
      "metadata": {
        "id": "uQ6wfYxCQXa2"
      },
      "outputs": [],
      "source": [
        "import gensim\n",
        "from gensim.models import word2vec\n",
        "from gensim.models.word2vec import Word2Vec\n",
        "import numpy as np\n",
        "import matplotlib.pyplot as plt\n",
        "import pandas as pd\n",
        "import spacy\n",
        "import string"
      ]
    },
    {
      "cell_type": "code",
      "execution_count": null,
      "metadata": {
        "colab": {
          "base_uri": "https://localhost:8080/",
          "height": 36
        },
        "id": "cXmVP8MHR2R0",
        "outputId": "9049e142-a54d-48ec-8c5f-c4aec53957ef"
      },
      "outputs": [
        {
          "data": {
            "application/vnd.google.colaboratory.intrinsic+json": {
              "type": "string"
            },
            "text/plain": [
              "'4.3.1'"
            ]
          },
          "execution_count": 3,
          "metadata": {},
          "output_type": "execute_result"
        }
      ],
      "source": [
        "gensim.__version__"
      ]
    },
    {
      "cell_type": "code",
      "execution_count": null,
      "metadata": {
        "id": "Il3bNqxuR4yh"
      },
      "outputs": [],
      "source": [
        "np.random.seed(42)"
      ]
    },
    {
      "cell_type": "code",
      "execution_count": null,
      "metadata": {
        "id": "YPejMqRESB2m"
      },
      "outputs": [],
      "source": [
        "# from google.colab import drive\n",
        "# drive.mount('/content/drive')"
      ]
    },
    {
      "cell_type": "markdown",
      "metadata": {
        "id": "9s_afB5ASRun"
      },
      "source": [
        "#Use Pretrained Word Vectors"
      ]
    },
    {
      "cell_type": "code",
      "execution_count": null,
      "metadata": {
        "colab": {
          "base_uri": "https://localhost:8080/"
        },
        "id": "ylMCm52JSH45",
        "outputId": "dfff5522-f3e4-46c7-8f56-5e11d52bbae1"
      },
      "outputs": [
        {
          "name": "stdout",
          "output_type": "stream",
          "text": [
            "['fasttext-wiki-news-subwords-300', 'conceptnet-numberbatch-17-06-300', 'word2vec-ruscorpora-300', 'word2vec-google-news-300', 'glove-wiki-gigaword-50', 'glove-wiki-gigaword-100', 'glove-wiki-gigaword-200', 'glove-wiki-gigaword-300', 'glove-twitter-25', 'glove-twitter-50', 'glove-twitter-100', 'glove-twitter-200', '__testing_word2vec-matrix-synopsis']\n"
          ]
        }
      ],
      "source": [
        "import gensim.downloader as api\n",
        "print(list(gensim.downloader.info()['models'].keys()))"
      ]
    },
    {
      "cell_type": "code",
      "execution_count": null,
      "metadata": {
        "colab": {
          "base_uri": "https://localhost:8080/"
        },
        "id": "3qHwkdV5SVrG",
        "outputId": "bd44171c-eb85-4798-807e-e5a7e47b818b"
      },
      "outputs": [
        {
          "name": "stdout",
          "output_type": "stream",
          "text": [
            "[==================================================] 100.0% 758.5/758.5MB downloaded\n"
          ]
        }
      ],
      "source": [
        "wv = api.load('glove-twitter-200')"
      ]
    },
    {
      "cell_type": "code",
      "execution_count": null,
      "metadata": {
        "colab": {
          "base_uri": "https://localhost:8080/"
        },
        "id": "4HVqAtN-SgiU",
        "outputId": "caa1ab65-cf08-4dcc-bbc9-046e133d6cf4"
      },
      "outputs": [
        {
          "data": {
            "text/plain": [
              "gensim.models.keyedvectors.KeyedVectors"
            ]
          },
          "execution_count": 69,
          "metadata": {},
          "output_type": "execute_result"
        }
      ],
      "source": [
        "type(wv)"
      ]
    },
    {
      "cell_type": "code",
      "execution_count": null,
      "metadata": {
        "colab": {
          "base_uri": "https://localhost:8080/"
        },
        "id": "BfX3uxTLSxkj",
        "outputId": "927a969f-a36c-4a4c-9707-047f843e1a21"
      },
      "outputs": [
        {
          "data": {
            "text/plain": [
              "array([ 5.5789e-01,  1.2894e-01,  5.8807e-02, -1.7184e-01, -2.1062e-01,\n",
              "        6.2724e-01,  3.8536e-01, -8.4433e-02, -1.1365e+00,  2.3821e-02,\n",
              "        5.3795e-02, -6.7236e-01, -3.0422e-01,  1.1528e+00, -2.6915e-01,\n",
              "        3.8259e-01, -3.9516e-01,  1.7018e-01, -1.1841e-01, -1.2170e+00,\n",
              "       -2.3860e-01,  1.9965e-01,  3.4177e-01, -5.6872e-01,  3.4706e-01,\n",
              "        1.4325e+00, -1.4076e-01, -5.2220e-01, -1.0320e-01, -2.6111e-01,\n",
              "        3.5777e-01,  3.6756e-02, -4.0606e-01, -8.5759e-01,  2.4264e-01,\n",
              "        1.2333e-02,  3.2333e-01, -5.5376e-02,  9.6043e-02,  2.3453e-01,\n",
              "        1.2113e+00, -1.3714e-03,  4.8227e-01, -3.6788e-02,  6.1119e-01,\n",
              "        4.1280e-01,  1.8004e-01,  1.0982e+00, -3.9601e-02, -5.0017e-01,\n",
              "        6.3369e-01,  3.3001e-01,  8.4009e-03, -9.1504e-01,  8.9476e-01,\n",
              "       -3.5948e-01, -6.0683e-01, -1.2135e-01, -7.2819e-01,  1.7653e-01,\n",
              "       -5.3398e-01,  2.9630e-01, -1.1180e+00,  2.0071e-01,  8.2873e-02,\n",
              "       -2.5766e-01, -7.1431e-01,  1.7063e-01, -1.0573e+00,  3.0704e-03,\n",
              "       -1.5704e-01, -3.0812e-01,  1.3371e-01, -4.9794e-01,  6.5104e-01,\n",
              "        4.3633e-01,  7.0426e-01,  4.2475e-01, -7.2654e-01,  2.7311e-01,\n",
              "       -1.8355e-01, -8.9934e-02,  5.4906e-02, -4.3741e-01,  9.2985e-01,\n",
              "        1.7990e-01,  3.2130e-02,  6.2529e-01, -6.0546e-02,  3.3654e-01,\n",
              "       -8.7278e-01,  1.2836e-01,  1.1210e-01, -2.9646e-01,  5.1332e-02,\n",
              "       -3.3602e-02, -4.1790e-01,  1.0589e-01,  2.8748e-01,  3.6608e-01,\n",
              "        3.4636e-02, -4.1938e-01, -5.6394e-01,  6.9555e-01, -2.1914e-01,\n",
              "       -1.0346e+00,  2.0051e-01,  3.4817e-01,  2.6403e-02, -3.2097e-01,\n",
              "        6.1428e-02, -8.6962e-01,  3.2158e-01, -7.4718e-01,  3.5564e-01,\n",
              "        6.8357e-01,  1.9634e-01,  4.0214e-02, -2.4037e-01,  2.8497e-01,\n",
              "       -2.0321e-02,  2.2397e-01,  2.8818e-01, -9.6801e-01, -6.2237e-01,\n",
              "        4.8256e-01, -8.5349e-01, -9.8387e-01,  4.3964e-01, -1.2532e+00,\n",
              "        8.6748e-02, -1.7891e-01,  8.1824e-02,  2.6179e-01,  1.3959e-01,\n",
              "        5.6301e-01, -1.2377e-01, -3.4012e-01,  4.8928e-01, -2.2237e-01,\n",
              "        7.8846e-01, -5.5134e-01,  5.8969e-02,  1.1055e-01, -1.1427e-01,\n",
              "        4.0010e-01, -5.3633e-01,  4.1935e-01, -5.9254e-02,  2.6652e-02,\n",
              "       -3.5991e-01,  3.7016e-01, -2.5887e+00,  6.7898e-01,  1.1127e-01,\n",
              "        4.0846e-03, -3.7608e-01, -1.0802e+00,  9.6498e-01, -1.7764e-01,\n",
              "        1.0829e+00,  3.5878e-02, -9.6963e-02, -2.5019e-01,  3.2721e-01,\n",
              "       -8.3709e-01, -3.3860e-01,  1.1744e-01,  3.2881e-01,  8.4236e-01,\n",
              "        3.7953e-01,  2.1228e-01, -2.3952e-02,  4.4317e-01, -7.6456e-01,\n",
              "       -2.6523e-01, -5.2280e-02, -3.1268e-01,  2.4034e-01, -6.8648e-01,\n",
              "        7.5357e-01,  5.3323e-02,  3.3089e-01,  7.8938e-01,  2.1873e-01,\n",
              "        4.0517e-02, -7.0228e-01,  1.8595e-01, -4.0450e-01, -4.9640e-01,\n",
              "       -1.2180e+00,  4.8790e-01, -1.2011e-01,  1.0989e-01, -2.4920e-01,\n",
              "        3.6452e-01,  1.5039e-01,  7.0311e-01,  1.5402e-01,  4.0392e-01],\n",
              "      dtype=float32)"
            ]
          },
          "execution_count": 70,
          "metadata": {},
          "output_type": "execute_result"
        }
      ],
      "source": [
        "wv['sarcasm']"
      ]
    },
    {
      "cell_type": "code",
      "execution_count": null,
      "metadata": {
        "colab": {
          "base_uri": "https://localhost:8080/"
        },
        "id": "fHn9rKfCSxg9",
        "outputId": "0c6ff52c-bc89-4efb-cc5d-f338405c6f9b"
      },
      "outputs": [
        {
          "data": {
            "text/plain": [
              "200"
            ]
          },
          "execution_count": 71,
          "metadata": {},
          "output_type": "execute_result"
        }
      ],
      "source": [
        "len(wv['sarcasm'])"
      ]
    },
    {
      "cell_type": "code",
      "execution_count": null,
      "metadata": {
        "colab": {
          "base_uri": "https://localhost:8080/"
        },
        "id": "KyIm9LsZu-W0",
        "outputId": "8a91376a-c57f-455a-ef96-5016e1927f45"
      },
      "outputs": [
        {
          "data": {
            "text/plain": [
              "0.25014803"
            ]
          },
          "execution_count": 72,
          "metadata": {},
          "output_type": "execute_result"
        }
      ],
      "source": [
        "wv.similarity(\"sarcasm\", \"figurative\")"
      ]
    },
    {
      "cell_type": "code",
      "execution_count": null,
      "metadata": {
        "colab": {
          "base_uri": "https://localhost:8080/"
        },
        "id": "rovSnyqRuPf7",
        "outputId": "66b9aeb3-f4bb-4a8a-de4f-a10d49040d5e"
      },
      "outputs": [
        {
          "data": {
            "text/plain": [
              "0.22642589"
            ]
          },
          "execution_count": 73,
          "metadata": {},
          "output_type": "execute_result"
        }
      ],
      "source": [
        "wv.similarity(\"sarcasm\", \"regular\")"
      ]
    },
    {
      "cell_type": "markdown",
      "metadata": {
        "id": "ZtzHZMtIv2XC"
      },
      "source": [
        "#Semantic regularities captured in word embeddings"
      ]
    },
    {
      "cell_type": "code",
      "execution_count": null,
      "metadata": {
        "colab": {
          "base_uri": "https://localhost:8080/"
        },
        "id": "S0IleygNv1iS",
        "outputId": "2eb42425-9002-4ad6-8439-48288b7a5636"
      },
      "outputs": [
        {
          "data": {
            "text/plain": [
              "[('queen', 0.6820898056030273),\n",
              " ('prince', 0.5875527262687683),\n",
              " ('princess', 0.5620489120483398)]"
            ]
          },
          "execution_count": 74,
          "metadata": {},
          "output_type": "execute_result"
        }
      ],
      "source": [
        "wv.most_similar(positive=['woman', 'king'], negative=['man'], topn=3)"
      ]
    },
    {
      "cell_type": "code",
      "execution_count": null,
      "metadata": {
        "colab": {
          "base_uri": "https://localhost:8080/"
        },
        "id": "9MZ9E0AKv1e6",
        "outputId": "54b943ee-158a-4bd6-cf50-a394ed701283"
      },
      "outputs": [
        {
          "data": {
            "text/plain": [
              "[('girl', 0.7306562662124634),\n",
              " ('queen', 0.7207667231559753),\n",
              " ('that', 0.7187842130661011)]"
            ]
          },
          "execution_count": 75,
          "metadata": {},
          "output_type": "execute_result"
        }
      ],
      "source": [
        "wv.most_similar(positive=['woman', 'king'], topn=3)"
      ]
    },
    {
      "cell_type": "code",
      "execution_count": null,
      "metadata": {
        "id": "EESPz2nCv1bs"
      },
      "outputs": [],
      "source": [
        "words = ['irony','figurative','sarcasm','peace','regular']"
      ]
    },
    {
      "cell_type": "code",
      "execution_count": null,
      "metadata": {
        "colab": {
          "base_uri": "https://localhost:8080/"
        },
        "id": "O3Abuw-fv1YM",
        "outputId": "22422f7c-1cdc-497f-8954-8eb56593144d"
      },
      "outputs": [
        {
          "data": {
            "text/plain": [
              "array([[ 1.2267718, -1.070624 ],\n",
              "       [ 1.1867611,  4.2864037],\n",
              "       [ 4.0597553, -2.337758 ],\n",
              "       [-3.9033687, -2.5953434],\n",
              "       [-2.56992  ,  1.7173201]], dtype=float32)"
            ]
          },
          "execution_count": 77,
          "metadata": {},
          "output_type": "execute_result"
        }
      ],
      "source": [
        "sample_vectors = np.array([wv[word] for word in words])\n",
        "from sklearn.decomposition import PCA\n",
        "pca = PCA(n_components=2)\n",
        "result = pca.fit_transform(sample_vectors)\n",
        "result"
      ]
    },
    {
      "cell_type": "code",
      "execution_count": null,
      "metadata": {
        "colab": {
          "base_uri": "https://localhost:8080/",
          "height": 676
        },
        "id": "vOq9uFN_xdHY",
        "outputId": "3e651e53-f63f-4e1a-cb2e-3650da95ed7f"
      },
      "outputs": [
        {
          "data": {
            "image/png": "[encoded data removed]",
            "text/plain": [
              "<Figure size 800x800 with 1 Axes>"
            ]
          },
          "metadata": {},
          "output_type": "display_data"
        }
      ],
      "source": [
        "plt.figure(figsize=(8,8))\n",
        "plt.scatter(result[:,0], result[:,1])\n",
        "for i, word in enumerate(words):\n",
        "    plt.annotate(word, xy=(result[i, 0], result[i, 1]))\n",
        "plt.show()"
      ]
    },
    {
      "cell_type": "markdown",
      "metadata": {
        "id": "R4MurWFPwyKP"
      },
      "source": [
        "#Importing The Dataset"
      ]
    },
    {
      "cell_type": "code",
      "execution_count": null,
      "metadata": {
        "colab": {
          "base_uri": "https://localhost:8080/",
          "height": 423
        },
        "id": "fuXl2feUSxak",
        "outputId": "1a28984f-dde1-41c0-d449-2966dc3983ef"
      },
      "outputs": [
        {
          "data": {
            "text/html": [
              "\n",
              "  <div id=\"df-5a2b1371-1333-4532-ba2c-ac9a37df9429\">\n",
              "    <div class=\"colab-df-container\">\n",
              "      <div>\n",
              "<style scoped>\n",
              "    .dataframe tbody tr th:only-of-type {\n",
              "        vertical-align: middle;\n",
              "    }\n",
              "\n",
              "    .dataframe tbody tr th {\n",
              "        vertical-align: top;\n",
              "    }\n",
              "\n",
              "    .dataframe thead th {\n",
              "        text-align: right;\n",
              "    }\n",
              "</style>\n",
              "<table border=\"1\" class=\"dataframe\">\n",
              "  <thead>\n",
              "    <tr style=\"text-align: right;\">\n",
              "      <th></th>\n",
              "      <th>tweets</th>\n",
              "      <th>class</th>\n",
              "    </tr>\n",
              "  </thead>\n",
              "  <tbody>\n",
              "    <tr>\n",
              "      <th>0</th>\n",
              "      <td>Be aware  dirty step to get money  #staylight ...</td>\n",
              "      <td>figurative</td>\n",
              "    </tr>\n",
              "    <tr>\n",
              "      <th>1</th>\n",
              "      <td>#sarcasm for #people who don't understand #diy...</td>\n",
              "      <td>figurative</td>\n",
              "    </tr>\n",
              "    <tr>\n",
              "      <th>2</th>\n",
              "      <td>@IminworkJeremy @medsingle #DailyMail readers ...</td>\n",
              "      <td>figurative</td>\n",
              "    </tr>\n",
              "    <tr>\n",
              "      <th>3</th>\n",
              "      <td>@wilw Why do I get the feeling you like games?...</td>\n",
              "      <td>figurative</td>\n",
              "    </tr>\n",
              "    <tr>\n",
              "      <th>4</th>\n",
              "      <td>-@TeacherArthurG @rweingarten You probably jus...</td>\n",
              "      <td>figurative</td>\n",
              "    </tr>\n",
              "    <tr>\n",
              "      <th>...</th>\n",
              "      <td>...</td>\n",
              "      <td>...</td>\n",
              "    </tr>\n",
              "    <tr>\n",
              "      <th>81403</th>\n",
              "      <td>Photo: Image via We Heart It http://t.co/ky8Nf...</td>\n",
              "      <td>sarcasm</td>\n",
              "    </tr>\n",
              "    <tr>\n",
              "      <th>81404</th>\n",
              "      <td>I never knew..I better put this out to the Uni...</td>\n",
              "      <td>sarcasm</td>\n",
              "    </tr>\n",
              "    <tr>\n",
              "      <th>81405</th>\n",
              "      <td>hey just wanted to say thanks @ puberty for le...</td>\n",
              "      <td>sarcasm</td>\n",
              "    </tr>\n",
              "    <tr>\n",
              "      <th>81406</th>\n",
              "      <td>I'm sure coverage like the Fox News Special “T...</td>\n",
              "      <td>sarcasm</td>\n",
              "    </tr>\n",
              "    <tr>\n",
              "      <th>81407</th>\n",
              "      <td>@skeyno16 at u13?! I won't believe it until I ...</td>\n",
              "      <td>sarcasm</td>\n",
              "    </tr>\n",
              "  </tbody>\n",
              "</table>\n",
              "<p>81408 rows × 2 columns</p>\n",
              "</div>\n",
              "      <button class=\"colab-df-convert\" onclick=\"convertToInteractive('df-5a2b1371-1333-4532-ba2c-ac9a37df9429')\"\n",
              "              title=\"Convert this dataframe to an interactive table.\"\n",
              "              style=\"display:none;\">\n",
              "        \n",
              "  <svg xmlns=\"http://www.w3.org/2000/svg\" height=\"24px\"viewBox=\"0 0 24 24\"\n",
              "       width=\"24px\">\n",
              "    <path d=\"M0 0h24v24H0V0z\" fill=\"none\"/>\n",
              "    <path d=\"M18.56 5.44l.94 2.06.94-2.06 2.06-.94-2.06-.94-.94-2.06-.94 2.06-2.06.94zm-11 1L8.5 8.5l.94-2.06 2.06-.94-2.06-.94L8.5 2.5l-.94 2.06-2.06.94zm10 10l.94 2.06.94-2.06 2.06-.94-2.06-.94-.94-2.06-.94 2.06-2.06.94z\"/><path d=\"M17.41 7.96l-1.37-1.37c-.4-.4-.92-.59-1.43-.59-.52 0-1.04.2-1.43.59L10.3 9.45l-7.72 7.72c-.78.78-.78 2.05 0 2.83L4 21.41c.39.39.9.59 1.41.59.51 0 1.02-.2 1.41-.59l7.78-7.78 2.81-2.81c.8-.78.8-2.07 0-2.86zM5.41 20L4 18.59l7.72-7.72 1.47 1.35L5.41 20z\"/>\n",
              "  </svg>\n",
              "      </button>\n",
              "      \n",
              "  <style>\n",
              "    .colab-df-container {\n",
              "      display:flex;\n",
              "      flex-wrap:wrap;\n",
              "      gap: 12px;\n",
              "    }\n",
              "\n",
              "    .colab-df-convert {\n",
              "      background-color: #E8F0FE;\n",
              "      border: none;\n",
              "      border-radius: 50%;\n",
              "      cursor: pointer;\n",
              "      display: none;\n",
              "      fill: #1967D2;\n",
              "      height: 32px;\n",
              "      padding: 0 0 0 0;\n",
              "      width: 32px;\n",
              "    }\n",
              "\n",
              "    .colab-df-convert:hover {\n",
              "      background-color: #E2EBFA;\n",
              "      box-shadow: 0px 1px 2px rgba(60, 64, 67, 0.3), 0px 1px 3px 1px rgba(60, 64, 67, 0.15);\n",
              "      fill: #174EA6;\n",
              "    }\n",
              "\n",
              "    [theme=dark] .colab-df-convert {\n",
              "      background-color: #3B4455;\n",
              "      fill: #D2E3FC;\n",
              "    }\n",
              "\n",
              "    [theme=dark] .colab-df-convert:hover {\n",
              "      background-color: #434B5C;\n",
              "      box-shadow: 0px 1px 3px 1px rgba(0, 0, 0, 0.15);\n",
              "      filter: drop-shadow(0px 1px 2px rgba(0, 0, 0, 0.3));\n",
              "      fill: #FFFFFF;\n",
              "    }\n",
              "  </style>\n",
              "\n",
              "      <script>\n",
              "        const buttonEl =\n",
              "          document.querySelector('#df-5a2b1371-1333-4532-ba2c-ac9a37df9429 button.colab-df-convert');\n",
              "        buttonEl.style.display =\n",
              "          google.colab.kernel.accessAllowed ? 'block' : 'none';\n",
              "\n",
              "        async function convertToInteractive(key) {\n",
              "          const element = document.querySelector('#df-5a2b1371-1333-4532-ba2c-ac9a37df9429');\n",
              "          const dataTable =\n",
              "            await google.colab.kernel.invokeFunction('convertToInteractive',\n",
              "                                                     [key], {});\n",
              "          if (!dataTable) return;\n",
              "\n",
              "          const docLinkHtml = 'Like what you see? Visit the ' +\n",
              "            '<a target=\"_blank\" href=https://colab.research.google.com/notebooks/data_table.ipynb>data table notebook</a>'\n",
              "            + ' to learn more about interactive tables.';\n",
              "          element.innerHTML = '';\n",
              "          dataTable['output_type'] = 'display_data';\n",
              "          await google.colab.output.renderOutput(dataTable, element);\n",
              "          const docLink = document.createElement('div');\n",
              "          docLink.innerHTML = docLinkHtml;\n",
              "          element.appendChild(docLink);\n",
              "        }\n",
              "      </script>\n",
              "    </div>\n",
              "  </div>\n",
              "  "
            ],
            "text/plain": [
              "                                                  tweets       class\n",
              "0      Be aware  dirty step to get money  #staylight ...  figurative\n",
              "1      #sarcasm for #people who don't understand #diy...  figurative\n",
              "2      @IminworkJeremy @medsingle #DailyMail readers ...  figurative\n",
              "3      @wilw Why do I get the feeling you like games?...  figurative\n",
              "4      -@TeacherArthurG @rweingarten You probably jus...  figurative\n",
              "...                                                  ...         ...\n",
              "81403  Photo: Image via We Heart It http://t.co/ky8Nf...     sarcasm\n",
              "81404  I never knew..I better put this out to the Uni...     sarcasm\n",
              "81405  hey just wanted to say thanks @ puberty for le...     sarcasm\n",
              "81406  I'm sure coverage like the Fox News Special “T...     sarcasm\n",
              "81407  @skeyno16 at u13?! I won't believe it until I ...     sarcasm\n",
              "\n",
              "[81408 rows x 2 columns]"
            ]
          },
          "execution_count": 79,
          "metadata": {},
          "output_type": "execute_result"
        }
      ],
      "source": [
        "data = pd.read_csv(\"tweet.csv\")\n",
        "data"
      ]
    },
    {
      "cell_type": "code",
      "execution_count": null,
      "metadata": {
        "colab": {
          "base_uri": "https://localhost:8080/"
        },
        "id": "Ed6QEvl8SzMm",
        "outputId": "1613697c-0c54-4643-dce5-74f65be54261"
      },
      "outputs": [
        {
          "data": {
            "text/plain": [
              "<bound method NDFrame.head of                                                   tweets       class\n",
              "0      Be aware  dirty step to get money  #staylight ...  figurative\n",
              "1      #sarcasm for #people who don't understand #diy...  figurative\n",
              "2      @IminworkJeremy @medsingle #DailyMail readers ...  figurative\n",
              "3      @wilw Why do I get the feeling you like games?...  figurative\n",
              "4      -@TeacherArthurG @rweingarten You probably jus...  figurative\n",
              "...                                                  ...         ...\n",
              "81403  Photo: Image via We Heart It http://t.co/ky8Nf...     sarcasm\n",
              "81404  I never knew..I better put this out to the Uni...     sarcasm\n",
              "81405  hey just wanted to say thanks @ puberty for le...     sarcasm\n",
              "81406  I'm sure coverage like the Fox News Special “T...     sarcasm\n",
              "81407  @skeyno16 at u13?! I won't believe it until I ...     sarcasm\n",
              "\n",
              "[81408 rows x 2 columns]>"
            ]
          },
          "execution_count": 80,
          "metadata": {},
          "output_type": "execute_result"
        }
      ],
      "source": [
        "data.head"
      ]
    },
    {
      "cell_type": "code",
      "execution_count": null,
      "metadata": {
        "colab": {
          "base_uri": "https://localhost:8080/"
        },
        "id": "ayZ_Ptw3SzJB",
        "outputId": "a6bc6bb6-a8f2-4e24-a056-a7c2613a816a"
      },
      "outputs": [
        {
          "data": {
            "text/plain": [
              "(81408, 2)"
            ]
          },
          "execution_count": 81,
          "metadata": {},
          "output_type": "execute_result"
        }
      ],
      "source": [
        "data.shape"
      ]
    },
    {
      "cell_type": "code",
      "execution_count": null,
      "metadata": {
        "colab": {
          "base_uri": "https://localhost:8080/"
        },
        "id": "EL_s28EhSzFS",
        "outputId": "32b43381-ecdc-4e70-fbea-befd8278bd6e"
      },
      "outputs": [
        {
          "data": {
            "text/plain": [
              "49"
            ]
          },
          "execution_count": 82,
          "metadata": {},
          "output_type": "execute_result"
        }
      ],
      "source": [
        "# checking duplicate rows\n",
        "data.duplicated().sum()"
      ]
    },
    {
      "cell_type": "code",
      "execution_count": null,
      "metadata": {
        "id": "Fda9C4ISdfj1"
      },
      "outputs": [],
      "source": [
        "# droping duplicate rows\n",
        "data=data.drop_duplicates()"
      ]
    },
    {
      "cell_type": "code",
      "execution_count": null,
      "metadata": {
        "id": "xLZJPwPOACdc"
      },
      "outputs": [],
      "source": [
        "import re"
      ]
    },
    {
      "cell_type": "code",
      "execution_count": null,
      "metadata": {
        "colab": {
          "base_uri": "https://localhost:8080/",
          "height": 36
        },
        "id": "9kLQhQclABiH",
        "outputId": "3ed1b021-c649-4a4b-fe4a-437ee34dfbb1"
      },
      "outputs": [
        {
          "data": {
            "application/vnd.google.colaboratory.intrinsic+json": {
              "type": "string"
            },
            "text/plain": [
              "'Be aware dirty step to get money staylight staywhite sarcastic moralneeded '"
            ]
          },
          "execution_count": 85,
          "metadata": {},
          "output_type": "execute_result"
        }
      ],
      "source": [
        "def textCleaning(tweets):\n",
        "    op = re.sub(\"https://[a-zA-Z0-9/\\.]+\",\" \",tweets)\n",
        "    op = re.sub(\"[^a-zA-Z0-9]+\",\" \",op)\n",
        "    op = re.sub(r\"\\b\\d+(th)?\\b\",\" \",op)\n",
        "    op = re.sub(r\"\\b[a-zA-Z0-90]\\b\",\" \",op)\n",
        "    op = re.sub(\"\\s+\",\" \",op)\n",
        "#     op = \"\".join([w for w in op if w not in STOPWORDS])\n",
        "    return op\n",
        "textCleaning(data.tweets[0])"
      ]
    },
    {
      "cell_type": "code",
      "execution_count": null,
      "metadata": {
        "colab": {
          "base_uri": "https://localhost:8080/"
        },
        "id": "zMn_YoWO5wyb",
        "outputId": "d7347840-d193-46a7-bb8a-a8a959102025"
      },
      "outputs": [
        {
          "name": "stderr",
          "output_type": "stream",
          "text": [
            "<ipython-input-86-bed156387877>:1: SettingWithCopyWarning: \n",
            "A value is trying to be set on a copy of a slice from a DataFrame.\n",
            "Try using .loc[row_indexer,col_indexer] = value instead\n",
            "\n",
            "See the caveats in the documentation: https://pandas.pydata.org/pandas-docs/stable/user_guide/indexing.html#returning-a-view-versus-a-copy\n",
            "  data.tweets = data.tweets.map(textCleaning)\n"
          ]
        }
      ],
      "source": [
        "data.tweets = data.tweets.map(textCleaning)"
      ]
    },
    {
      "cell_type": "code",
      "execution_count": null,
      "metadata": {
        "colab": {
          "base_uri": "https://localhost:8080/",
          "height": 310
        },
        "id": "IWJ4fJEm56Cx",
        "outputId": "c2cff007-e598-4fbc-a746-4e949ab2f4a9"
      },
      "outputs": [
        {
          "name": "stderr",
          "output_type": "stream",
          "text": [
            "<ipython-input-87-6d88db46f32a>:12: SettingWithCopyWarning: \n",
            "A value is trying to be set on a copy of a slice from a DataFrame.\n",
            "Try using .loc[row_indexer,col_indexer] = value instead\n",
            "\n",
            "See the caveats in the documentation: https://pandas.pydata.org/pandas-docs/stable/user_guide/indexing.html#returning-a-view-versus-a-copy\n",
            "  data['tweets'] = data['tweets'].apply(lambda row:remove_pattern(row, \"@[\\w]*\")) #removing words related with '@'' replaced with 'space'\n"
          ]
        },
        {
          "data": {
            "text/html": [
              "\n",
              "  <div id=\"df-ca13bad6-7fb2-4852-bd9b-3a09567e503e\">\n",
              "    <div class=\"colab-df-container\">\n",
              "      <div>\n",
              "<style scoped>\n",
              "    .dataframe tbody tr th:only-of-type {\n",
              "        vertical-align: middle;\n",
              "    }\n",
              "\n",
              "    .dataframe tbody tr th {\n",
              "        vertical-align: top;\n",
              "    }\n",
              "\n",
              "    .dataframe thead th {\n",
              "        text-align: right;\n",
              "    }\n",
              "</style>\n",
              "<table border=\"1\" class=\"dataframe\">\n",
              "  <thead>\n",
              "    <tr style=\"text-align: right;\">\n",
              "      <th></th>\n",
              "      <th>tweets</th>\n",
              "      <th>class</th>\n",
              "    </tr>\n",
              "  </thead>\n",
              "  <tbody>\n",
              "    <tr>\n",
              "      <th>0</th>\n",
              "      <td>Be aware dirty step to get money staylight sta...</td>\n",
              "      <td>figurative</td>\n",
              "    </tr>\n",
              "    <tr>\n",
              "      <th>1</th>\n",
              "      <td>sarcasm for people who don understand diy art...</td>\n",
              "      <td>figurative</td>\n",
              "    </tr>\n",
              "    <tr>\n",
              "      <th>2</th>\n",
              "      <td>IminworkJeremy medsingle DailyMail readers be...</td>\n",
              "      <td>figurative</td>\n",
              "    </tr>\n",
              "    <tr>\n",
              "      <th>3</th>\n",
              "      <td>wilw Why do get the feeling you like games sa...</td>\n",
              "      <td>figurative</td>\n",
              "    </tr>\n",
              "    <tr>\n",
              "      <th>4</th>\n",
              "      <td>TeacherArthurG rweingarten You probably just ...</td>\n",
              "      <td>figurative</td>\n",
              "    </tr>\n",
              "  </tbody>\n",
              "</table>\n",
              "</div>\n",
              "      <button class=\"colab-df-convert\" onclick=\"convertToInteractive('df-ca13bad6-7fb2-4852-bd9b-3a09567e503e')\"\n",
              "              title=\"Convert this dataframe to an interactive table.\"\n",
              "              style=\"display:none;\">\n",
              "        \n",
              "  <svg xmlns=\"http://www.w3.org/2000/svg\" height=\"24px\"viewBox=\"0 0 24 24\"\n",
              "       width=\"24px\">\n",
              "    <path d=\"M0 0h24v24H0V0z\" fill=\"none\"/>\n",
              "    <path d=\"M18.56 5.44l.94 2.06.94-2.06 2.06-.94-2.06-.94-.94-2.06-.94 2.06-2.06.94zm-11 1L8.5 8.5l.94-2.06 2.06-.94-2.06-.94L8.5 2.5l-.94 2.06-2.06.94zm10 10l.94 2.06.94-2.06 2.06-.94-2.06-.94-.94-2.06-.94 2.06-2.06.94z\"/><path d=\"M17.41 7.96l-1.37-1.37c-.4-.4-.92-.59-1.43-.59-.52 0-1.04.2-1.43.59L10.3 9.45l-7.72 7.72c-.78.78-.78 2.05 0 2.83L4 21.41c.39.39.9.59 1.41.59.51 0 1.02-.2 1.41-.59l7.78-7.78 2.81-2.81c.8-.78.8-2.07 0-2.86zM5.41 20L4 18.59l7.72-7.72 1.47 1.35L5.41 20z\"/>\n",
              "  </svg>\n",
              "      </button>\n",
              "      \n",
              "  <style>\n",
              "    .colab-df-container {\n",
              "      display:flex;\n",
              "      flex-wrap:wrap;\n",
              "      gap: 12px;\n",
              "    }\n",
              "\n",
              "    .colab-df-convert {\n",
              "      background-color: #E8F0FE;\n",
              "      border: none;\n",
              "      border-radius: 50%;\n",
              "      cursor: pointer;\n",
              "      display: none;\n",
              "      fill: #1967D2;\n",
              "      height: 32px;\n",
              "      padding: 0 0 0 0;\n",
              "      width: 32px;\n",
              "    }\n",
              "\n",
              "    .colab-df-convert:hover {\n",
              "      background-color: #E2EBFA;\n",
              "      box-shadow: 0px 1px 2px rgba(60, 64, 67, 0.3), 0px 1px 3px 1px rgba(60, 64, 67, 0.15);\n",
              "      fill: #174EA6;\n",
              "    }\n",
              "\n",
              "    [theme=dark] .colab-df-convert {\n",
              "      background-color: #3B4455;\n",
              "      fill: #D2E3FC;\n",
              "    }\n",
              "\n",
              "    [theme=dark] .colab-df-convert:hover {\n",
              "      background-color: #434B5C;\n",
              "      box-shadow: 0px 1px 3px 1px rgba(0, 0, 0, 0.15);\n",
              "      filter: drop-shadow(0px 1px 2px rgba(0, 0, 0, 0.3));\n",
              "      fill: #FFFFFF;\n",
              "    }\n",
              "  </style>\n",
              "\n",
              "      <script>\n",
              "        const buttonEl =\n",
              "          document.querySelector('#df-ca13bad6-7fb2-4852-bd9b-3a09567e503e button.colab-df-convert');\n",
              "        buttonEl.style.display =\n",
              "          google.colab.kernel.accessAllowed ? 'block' : 'none';\n",
              "\n",
              "        async function convertToInteractive(key) {\n",
              "          const element = document.querySelector('#df-ca13bad6-7fb2-4852-bd9b-3a09567e503e');\n",
              "          const dataTable =\n",
              "            await google.colab.kernel.invokeFunction('convertToInteractive',\n",
              "                                                     [key], {});\n",
              "          if (!dataTable) return;\n",
              "\n",
              "          const docLinkHtml = 'Like what you see? Visit the ' +\n",
              "            '<a target=\"_blank\" href=https://colab.research.google.com/notebooks/data_table.ipynb>data table notebook</a>'\n",
              "            + ' to learn more about interactive tables.';\n",
              "          element.innerHTML = '';\n",
              "          dataTable['output_type'] = 'display_data';\n",
              "          await google.colab.output.renderOutput(dataTable, element);\n",
              "          const docLink = document.createElement('div');\n",
              "          docLink.innerHTML = docLinkHtml;\n",
              "          element.appendChild(docLink);\n",
              "        }\n",
              "      </script>\n",
              "    </div>\n",
              "  </div>\n",
              "  "
            ],
            "text/plain": [
              "                                              tweets       class\n",
              "0  Be aware dirty step to get money staylight sta...  figurative\n",
              "1   sarcasm for people who don understand diy art...  figurative\n",
              "2   IminworkJeremy medsingle DailyMail readers be...  figurative\n",
              "3   wilw Why do get the feeling you like games sa...  figurative\n",
              "4   TeacherArthurG rweingarten You probably just ...  figurative"
            ]
          },
          "execution_count": 87,
          "metadata": {},
          "output_type": "execute_result"
        }
      ],
      "source": [
        "# Removing user name\n",
        "import re                #regex package(regular expression)\n",
        "\n",
        "def remove_pattern(input_txt, pattern):\n",
        "    r = re.findall(pattern, input_txt)       #it finds specific words from text\n",
        "    for i in r:\n",
        "        input_txt = re.sub(i, '', input_txt)\n",
        "\n",
        "    return input_txt\n",
        "\n",
        "# remove user handles\n",
        "data['tweets'] = data['tweets'].apply(lambda row:remove_pattern(row, \"@[\\w]*\")) #removing words related with '@'' replaced with 'space'\n",
        "\n",
        "\n",
        "# first five observations\n",
        "data.head()"
      ]
    },
    {
      "cell_type": "code",
      "execution_count": null,
      "metadata": {
        "colab": {
          "base_uri": "https://localhost:8080/",
          "height": 310
        },
        "id": "mI4qVQWE55_Z",
        "outputId": "d7f48ec0-aea4-4f4d-b771-baf76d888191"
      },
      "outputs": [
        {
          "name": "stderr",
          "output_type": "stream",
          "text": [
            "<ipython-input-88-c491a8f90374>:2: SettingWithCopyWarning: \n",
            "A value is trying to be set on a copy of a slice from a DataFrame.\n",
            "Try using .loc[row_indexer,col_indexer] = value instead\n",
            "\n",
            "See the caveats in the documentation: https://pandas.pydata.org/pandas-docs/stable/user_guide/indexing.html#returning-a-view-versus-a-copy\n",
            "  data['tweets']=data['tweets'].str.lower()\n"
          ]
        },
        {
          "data": {
            "text/html": [
              "\n",
              "  <div id=\"df-3858ce95-81cd-4f64-985c-cb89dc248fbc\">\n",
              "    <div class=\"colab-df-container\">\n",
              "      <div>\n",
              "<style scoped>\n",
              "    .dataframe tbody tr th:only-of-type {\n",
              "        vertical-align: middle;\n",
              "    }\n",
              "\n",
              "    .dataframe tbody tr th {\n",
              "        vertical-align: top;\n",
              "    }\n",
              "\n",
              "    .dataframe thead th {\n",
              "        text-align: right;\n",
              "    }\n",
              "</style>\n",
              "<table border=\"1\" class=\"dataframe\">\n",
              "  <thead>\n",
              "    <tr style=\"text-align: right;\">\n",
              "      <th></th>\n",
              "      <th>tweets</th>\n",
              "      <th>class</th>\n",
              "    </tr>\n",
              "  </thead>\n",
              "  <tbody>\n",
              "    <tr>\n",
              "      <th>0</th>\n",
              "      <td>be aware dirty step to get money staylight sta...</td>\n",
              "      <td>figurative</td>\n",
              "    </tr>\n",
              "    <tr>\n",
              "      <th>1</th>\n",
              "      <td>sarcasm for people who don understand diy art...</td>\n",
              "      <td>figurative</td>\n",
              "    </tr>\n",
              "    <tr>\n",
              "      <th>2</th>\n",
              "      <td>iminworkjeremy medsingle dailymail readers be...</td>\n",
              "      <td>figurative</td>\n",
              "    </tr>\n",
              "    <tr>\n",
              "      <th>3</th>\n",
              "      <td>wilw why do get the feeling you like games sa...</td>\n",
              "      <td>figurative</td>\n",
              "    </tr>\n",
              "    <tr>\n",
              "      <th>4</th>\n",
              "      <td>teacherarthurg rweingarten you probably just ...</td>\n",
              "      <td>figurative</td>\n",
              "    </tr>\n",
              "  </tbody>\n",
              "</table>\n",
              "</div>\n",
              "      <button class=\"colab-df-convert\" onclick=\"convertToInteractive('df-3858ce95-81cd-4f64-985c-cb89dc248fbc')\"\n",
              "              title=\"Convert this dataframe to an interactive table.\"\n",
              "              style=\"display:none;\">\n",
              "        \n",
              "  <svg xmlns=\"http://www.w3.org/2000/svg\" height=\"24px\"viewBox=\"0 0 24 24\"\n",
              "       width=\"24px\">\n",
              "    <path d=\"M0 0h24v24H0V0z\" fill=\"none\"/>\n",
              "    <path d=\"M18.56 5.44l.94 2.06.94-2.06 2.06-.94-2.06-.94-.94-2.06-.94 2.06-2.06.94zm-11 1L8.5 8.5l.94-2.06 2.06-.94-2.06-.94L8.5 2.5l-.94 2.06-2.06.94zm10 10l.94 2.06.94-2.06 2.06-.94-2.06-.94-.94-2.06-.94 2.06-2.06.94z\"/><path d=\"M17.41 7.96l-1.37-1.37c-.4-.4-.92-.59-1.43-.59-.52 0-1.04.2-1.43.59L10.3 9.45l-7.72 7.72c-.78.78-.78 2.05 0 2.83L4 21.41c.39.39.9.59 1.41.59.51 0 1.02-.2 1.41-.59l7.78-7.78 2.81-2.81c.8-.78.8-2.07 0-2.86zM5.41 20L4 18.59l7.72-7.72 1.47 1.35L5.41 20z\"/>\n",
              "  </svg>\n",
              "      </button>\n",
              "      \n",
              "  <style>\n",
              "    .colab-df-container {\n",
              "      display:flex;\n",
              "      flex-wrap:wrap;\n",
              "      gap: 12px;\n",
              "    }\n",
              "\n",
              "    .colab-df-convert {\n",
              "      background-color: #E8F0FE;\n",
              "      border: none;\n",
              "      border-radius: 50%;\n",
              "      cursor: pointer;\n",
              "      display: none;\n",
              "      fill: #1967D2;\n",
              "      height: 32px;\n",
              "      padding: 0 0 0 0;\n",
              "      width: 32px;\n",
              "    }\n",
              "\n",
              "    .colab-df-convert:hover {\n",
              "      background-color: #E2EBFA;\n",
              "      box-shadow: 0px 1px 2px rgba(60, 64, 67, 0.3), 0px 1px 3px 1px rgba(60, 64, 67, 0.15);\n",
              "      fill: #174EA6;\n",
              "    }\n",
              "\n",
              "    [theme=dark] .colab-df-convert {\n",
              "      background-color: #3B4455;\n",
              "      fill: #D2E3FC;\n",
              "    }\n",
              "\n",
              "    [theme=dark] .colab-df-convert:hover {\n",
              "      background-color: #434B5C;\n",
              "      box-shadow: 0px 1px 3px 1px rgba(0, 0, 0, 0.15);\n",
              "      filter: drop-shadow(0px 1px 2px rgba(0, 0, 0, 0.3));\n",
              "      fill: #FFFFFF;\n",
              "    }\n",
              "  </style>\n",
              "\n",
              "      <script>\n",
              "        const buttonEl =\n",
              "          document.querySelector('#df-3858ce95-81cd-4f64-985c-cb89dc248fbc button.colab-df-convert');\n",
              "        buttonEl.style.display =\n",
              "          google.colab.kernel.accessAllowed ? 'block' : 'none';\n",
              "\n",
              "        async function convertToInteractive(key) {\n",
              "          const element = document.querySelector('#df-3858ce95-81cd-4f64-985c-cb89dc248fbc');\n",
              "          const dataTable =\n",
              "            await google.colab.kernel.invokeFunction('convertToInteractive',\n",
              "                                                     [key], {});\n",
              "          if (!dataTable) return;\n",
              "\n",
              "          const docLinkHtml = 'Like what you see? Visit the ' +\n",
              "            '<a target=\"_blank\" href=https://colab.research.google.com/notebooks/data_table.ipynb>data table notebook</a>'\n",
              "            + ' to learn more about interactive tables.';\n",
              "          element.innerHTML = '';\n",
              "          dataTable['output_type'] = 'display_data';\n",
              "          await google.colab.output.renderOutput(dataTable, element);\n",
              "          const docLink = document.createElement('div');\n",
              "          docLink.innerHTML = docLinkHtml;\n",
              "          element.appendChild(docLink);\n",
              "        }\n",
              "      </script>\n",
              "    </div>\n",
              "  </div>\n",
              "  "
            ],
            "text/plain": [
              "                                              tweets       class\n",
              "0  be aware dirty step to get money staylight sta...  figurative\n",
              "1   sarcasm for people who don understand diy art...  figurative\n",
              "2   iminworkjeremy medsingle dailymail readers be...  figurative\n",
              "3   wilw why do get the feeling you like games sa...  figurative\n",
              "4   teacherarthurg rweingarten you probably just ...  figurative"
            ]
          },
          "execution_count": 88,
          "metadata": {},
          "output_type": "execute_result"
        }
      ],
      "source": [
        "# Converting into Lower case\n",
        "data['tweets']=data['tweets'].str.lower()\n",
        "data.head()"
      ]
    },
    {
      "cell_type": "markdown",
      "metadata": {
        "id": "1vtYJzbdVSXL"
      },
      "source": [
        "Removing numerical data from Tweets"
      ]
    },
    {
      "cell_type": "code",
      "execution_count": null,
      "metadata": {
        "colab": {
          "base_uri": "https://localhost:8080/"
        },
        "id": "rGBr3fOKVPks",
        "outputId": "948a835f-9bf8-4b77-e79b-873a18f6dd41"
      },
      "outputs": [
        {
          "name": "stderr",
          "output_type": "stream",
          "text": [
            "<ipython-input-89-baf791dfc1c0>:3: SettingWithCopyWarning: \n",
            "A value is trying to be set on a copy of a slice from a DataFrame.\n",
            "Try using .loc[row_indexer,col_indexer] = value instead\n",
            "\n",
            "See the caveats in the documentation: https://pandas.pydata.org/pandas-docs/stable/user_guide/indexing.html#returning-a-view-versus-a-copy\n",
            "  data['tweets'] = data['tweets'].apply(cleaning_numbers)\n"
          ]
        },
        {
          "data": {
            "text/plain": [
              "81403    photo image via we heart it http co kynfzoi ch...\n",
              "81404     never knew better put this out to the univers...\n",
              "81405    hey just wanted to say thanks puberty for lett...\n",
              "81406     sure coverage like the fox news special the h...\n",
              "81407      skeyno at u won believe it until see it sarcasm\n",
              "Name: tweets, dtype: object"
            ]
          },
          "execution_count": 89,
          "metadata": {},
          "output_type": "execute_result"
        }
      ],
      "source": [
        "def cleaning_numbers(data):\n",
        "    return re.sub('[0-9]+', '', data)\n",
        "data['tweets'] = data['tweets'].apply(cleaning_numbers)\n",
        "data['tweets'].tail()"
      ]
    },
    {
      "cell_type": "markdown",
      "metadata": {
        "id": "S2aNWHynV1za"
      },
      "source": [
        "Removing words which are not part of English Vocabulary"
      ]
    },
    {
      "cell_type": "code",
      "execution_count": null,
      "metadata": {
        "id": "i2y7Ry6VV08N"
      },
      "outputs": [],
      "source": [
        "from nltk.corpus import wordnet\n",
        "from nltk.tokenize import word_tokenize"
      ]
    },
    {
      "cell_type": "code",
      "execution_count": null,
      "metadata": {
        "id": "xdLisAAnWCD_"
      },
      "outputs": [],
      "source": [
        "def is_meaningful(word):\n",
        "    # Exclude stopwords\n",
        "    if word.lower() in remove_set:\n",
        "        return False\n",
        "    # Exclude punctuation marks\n",
        "    if not word.isalpha():\n",
        "        return False\n",
        "    # Exclude words not found in WordNet\n",
        "    if not wordnet.synsets(word):\n",
        "        return False\n",
        "    return True"
      ]
    },
    {
      "cell_type": "code",
      "execution_count": null,
      "metadata": {
        "id": "uc7Ij9NoWHFW"
      },
      "outputs": [],
      "source": [
        "def remove_meaninglesswords(text):\n",
        "    words = word_tokenize(text)\n",
        "    stop_words = set(stopwords.words('english'))\n",
        "    filtered_words = [word for word in words if is_meaningful(word)]\n",
        "    clean_text = ' '.join(filtered_words)\n",
        "    return filtered_words"
      ]
    },
    {
      "cell_type": "code",
      "execution_count": null,
      "metadata": {
        "colab": {
          "base_uri": "https://localhost:8080/",
          "height": 206
        },
        "id": "qPMLeic9WJqs",
        "outputId": "89e81855-1146-4f65-ee08-47c9862cae9f"
      },
      "outputs": [
        {
          "data": {
            "text/html": [
              "\n",
              "  <div id=\"df-128cc3c9-7f97-4788-96db-c00b18c6b01f\">\n",
              "    <div class=\"colab-df-container\">\n",
              "      <div>\n",
              "<style scoped>\n",
              "    .dataframe tbody tr th:only-of-type {\n",
              "        vertical-align: middle;\n",
              "    }\n",
              "\n",
              "    .dataframe tbody tr th {\n",
              "        vertical-align: top;\n",
              "    }\n",
              "\n",
              "    .dataframe thead th {\n",
              "        text-align: right;\n",
              "    }\n",
              "</style>\n",
              "<table border=\"1\" class=\"dataframe\">\n",
              "  <thead>\n",
              "    <tr style=\"text-align: right;\">\n",
              "      <th></th>\n",
              "      <th>tweets</th>\n",
              "      <th>class</th>\n",
              "    </tr>\n",
              "  </thead>\n",
              "  <tbody>\n",
              "    <tr>\n",
              "      <th>0</th>\n",
              "      <td>be aware dirty step to get money staylight sta...</td>\n",
              "      <td>figurative</td>\n",
              "    </tr>\n",
              "    <tr>\n",
              "      <th>1</th>\n",
              "      <td>sarcasm for people who don understand diy art...</td>\n",
              "      <td>figurative</td>\n",
              "    </tr>\n",
              "    <tr>\n",
              "      <th>2</th>\n",
              "      <td>iminworkjeremy medsingle dailymail readers be...</td>\n",
              "      <td>figurative</td>\n",
              "    </tr>\n",
              "    <tr>\n",
              "      <th>3</th>\n",
              "      <td>wilw why do get the feeling you like games sa...</td>\n",
              "      <td>figurative</td>\n",
              "    </tr>\n",
              "    <tr>\n",
              "      <th>4</th>\n",
              "      <td>teacherarthurg rweingarten you probably just ...</td>\n",
              "      <td>figurative</td>\n",
              "    </tr>\n",
              "  </tbody>\n",
              "</table>\n",
              "</div>\n",
              "      <button class=\"colab-df-convert\" onclick=\"convertToInteractive('df-128cc3c9-7f97-4788-96db-c00b18c6b01f')\"\n",
              "              title=\"Convert this dataframe to an interactive table.\"\n",
              "              style=\"display:none;\">\n",
              "        \n",
              "  <svg xmlns=\"http://www.w3.org/2000/svg\" height=\"24px\"viewBox=\"0 0 24 24\"\n",
              "       width=\"24px\">\n",
              "    <path d=\"M0 0h24v24H0V0z\" fill=\"none\"/>\n",
              "    <path d=\"M18.56 5.44l.94 2.06.94-2.06 2.06-.94-2.06-.94-.94-2.06-.94 2.06-2.06.94zm-11 1L8.5 8.5l.94-2.06 2.06-.94-2.06-.94L8.5 2.5l-.94 2.06-2.06.94zm10 10l.94 2.06.94-2.06 2.06-.94-2.06-.94-.94-2.06-.94 2.06-2.06.94z\"/><path d=\"M17.41 7.96l-1.37-1.37c-.4-.4-.92-.59-1.43-.59-.52 0-1.04.2-1.43.59L10.3 9.45l-7.72 7.72c-.78.78-.78 2.05 0 2.83L4 21.41c.39.39.9.59 1.41.59.51 0 1.02-.2 1.41-.59l7.78-7.78 2.81-2.81c.8-.78.8-2.07 0-2.86zM5.41 20L4 18.59l7.72-7.72 1.47 1.35L5.41 20z\"/>\n",
              "  </svg>\n",
              "      </button>\n",
              "      \n",
              "  <style>\n",
              "    .colab-df-container {\n",
              "      display:flex;\n",
              "      flex-wrap:wrap;\n",
              "      gap: 12px;\n",
              "    }\n",
              "\n",
              "    .colab-df-convert {\n",
              "      background-color: #E8F0FE;\n",
              "      border: none;\n",
              "      border-radius: 50%;\n",
              "      cursor: pointer;\n",
              "      display: none;\n",
              "      fill: #1967D2;\n",
              "      height: 32px;\n",
              "      padding: 0 0 0 0;\n",
              "      width: 32px;\n",
              "    }\n",
              "\n",
              "    .colab-df-convert:hover {\n",
              "      background-color: #E2EBFA;\n",
              "      box-shadow: 0px 1px 2px rgba(60, 64, 67, 0.3), 0px 1px 3px 1px rgba(60, 64, 67, 0.15);\n",
              "      fill: #174EA6;\n",
              "    }\n",
              "\n",
              "    [theme=dark] .colab-df-convert {\n",
              "      background-color: #3B4455;\n",
              "      fill: #D2E3FC;\n",
              "    }\n",
              "\n",
              "    [theme=dark] .colab-df-convert:hover {\n",
              "      background-color: #434B5C;\n",
              "      box-shadow: 0px 1px 3px 1px rgba(0, 0, 0, 0.15);\n",
              "      filter: drop-shadow(0px 1px 2px rgba(0, 0, 0, 0.3));\n",
              "      fill: #FFFFFF;\n",
              "    }\n",
              "  </style>\n",
              "\n",
              "      <script>\n",
              "        const buttonEl =\n",
              "          document.querySelector('#df-128cc3c9-7f97-4788-96db-c00b18c6b01f button.colab-df-convert');\n",
              "        buttonEl.style.display =\n",
              "          google.colab.kernel.accessAllowed ? 'block' : 'none';\n",
              "\n",
              "        async function convertToInteractive(key) {\n",
              "          const element = document.querySelector('#df-128cc3c9-7f97-4788-96db-c00b18c6b01f');\n",
              "          const dataTable =\n",
              "            await google.colab.kernel.invokeFunction('convertToInteractive',\n",
              "                                                     [key], {});\n",
              "          if (!dataTable) return;\n",
              "\n",
              "          const docLinkHtml = 'Like what you see? Visit the ' +\n",
              "            '<a target=\"_blank\" href=https://colab.research.google.com/notebooks/data_table.ipynb>data table notebook</a>'\n",
              "            + ' to learn more about interactive tables.';\n",
              "          element.innerHTML = '';\n",
              "          dataTable['output_type'] = 'display_data';\n",
              "          await google.colab.output.renderOutput(dataTable, element);\n",
              "          const docLink = document.createElement('div');\n",
              "          docLink.innerHTML = docLinkHtml;\n",
              "          element.appendChild(docLink);\n",
              "        }\n",
              "      </script>\n",
              "    </div>\n",
              "  </div>\n",
              "  "
            ],
            "text/plain": [
              "                                              tweets       class\n",
              "0  be aware dirty step to get money staylight sta...  figurative\n",
              "1   sarcasm for people who don understand diy art...  figurative\n",
              "2   iminworkjeremy medsingle dailymail readers be...  figurative\n",
              "3   wilw why do get the feeling you like games sa...  figurative\n",
              "4   teacherarthurg rweingarten you probably just ...  figurative"
            ]
          },
          "execution_count": 93,
          "metadata": {},
          "output_type": "execute_result"
        }
      ],
      "source": [
        "data.head()"
      ]
    },
    {
      "cell_type": "code",
      "execution_count": null,
      "metadata": {
        "id": "HwW8zrNLWJgz"
      },
      "outputs": [],
      "source": []
    },
    {
      "cell_type": "markdown",
      "metadata": {
        "id": "kpLFZUAQvI-Z"
      },
      "source": [
        "Taking average of the words of each sentence to get final representation of each sentence same as that of word length of 200 dimension"
      ]
    },
    {
      "cell_type": "code",
      "execution_count": null,
      "metadata": {
        "id": "LVYlE98YubJs"
      },
      "outputs": [],
      "source": [
        "def sent_vec(sent):\n",
        "    vector_size = wv.vector_size\n",
        "    wv_res = np.zeros(vector_size)\n",
        "    # print(wv_res)\n",
        "    ctr = 1\n",
        "    for w in sent:\n",
        "        if w in wv:\n",
        "            ctr += 1\n",
        "            wv_res += wv[w]\n",
        "    wv_res = wv_res/ctr\n",
        "    return wv_res"
      ]
    },
    {
      "cell_type": "code",
      "execution_count": null,
      "metadata": {
        "id": "RwMB55XOtf22"
      },
      "outputs": [],
      "source": [
        "# Creating our tokenizer function\n",
        "def spacy_tokenizer(sentence):\n",
        "    # Creating our token object, which is used to create documents with linguistic annotations.\n",
        "    doc = nlp(sentence)\n",
        "\n",
        "\n",
        "\n",
        "    # print(doc)\n",
        "    # print(type(doc))\n",
        "\n",
        "    # Lemmatizing each token and converting each token into lowercase\n",
        "    mytokens = [ word.lemma_.lower().strip() for word in doc ]\n",
        "\n",
        "    # print(mytokens)\n",
        "\n",
        "    # Removing stop words\n",
        "    mytokens = [ word for word in mytokens if word not in stop_words and word not in punctuations ]\n",
        "\n",
        "    # return preprocessed list of tokens\n",
        "    return mytokens"
      ]
    },
    {
      "cell_type": "code",
      "execution_count": null,
      "metadata": {
        "colab": {
          "base_uri": "https://localhost:8080/"
        },
        "id": "LBcNHZfWtmts",
        "outputId": "4d606805-7822-4ccf-b2c8-4c28da91374f"
      },
      "outputs": [
        {
          "data": {
            "text/plain": [
              "array([ 2.56112503e-01, -6.91402513e-02,  8.69197547e-02, -8.34437273e-03,\n",
              "       -6.34400267e-03,  7.22818794e-02, -4.73435504e-01, -5.58649972e-02,\n",
              "       -1.89825128e-01,  4.06767540e-02, -6.42848769e-02, -3.32323002e-01,\n",
              "        8.16562492e-02,  4.97746263e-02,  1.57576245e-01, -1.44525017e-02,\n",
              "       -2.66296251e-01, -6.06195061e-02, -3.21282491e-01,  3.61954998e-01,\n",
              "       -2.51182878e-01, -2.72545122e-01,  3.69678756e-01,  2.14506254e-01,\n",
              "        3.01211755e-01, -1.69056499e+00, -1.22658496e-01, -1.33376413e-01,\n",
              "        3.50555006e-01,  3.79418764e-01, -1.15433122e-01, -1.17419701e-01,\n",
              "       -1.13211999e-01,  6.13570723e-02,  2.12611722e-01,  7.69301169e-02,\n",
              "       -2.79238371e-01, -1.43211126e-01, -4.96171232e-01,  3.60221252e-01,\n",
              "       -9.24269985e-01,  1.69066499e-01,  2.21723745e-01,  4.02787235e-03,\n",
              "        1.42155756e-01, -8.19018765e-02, -7.26452507e-02, -1.57522500e-01,\n",
              "        4.31162510e-02, -7.11207160e-02,  1.66229992e-02,  3.79724940e-03,\n",
              "        2.02909978e-02, -1.01567124e-03,  1.98597503e-01, -2.45467490e-02,\n",
              "        1.04295878e-01, -8.56282488e-02, -8.60270024e-02, -1.50412496e-01,\n",
              "       -9.55587504e-02, -1.95586251e-01, -1.56265124e-01,  6.61035017e-02,\n",
              "        2.22657504e-01, -5.34225022e-02, -1.55551752e-01,  8.50831724e-02,\n",
              "       -2.16011133e-01, -1.38701294e-02,  1.44733920e-02, -2.04502753e-01,\n",
              "        1.90816248e-01, -3.71021491e-01, -2.02726879e-01,  1.52447507e-01,\n",
              "        2.46359995e-02,  2.98889000e-01,  3.28770028e-02, -3.86349987e-02,\n",
              "        9.40799974e-02, -5.54974955e-02, -8.49812515e-02,  2.73712501e-02,\n",
              "       -8.22857497e-02,  3.91712370e-01, -2.23562248e-01,  2.03218747e-01,\n",
              "        5.20977519e-02,  2.85195879e-01,  1.96623244e-01,  2.88537536e-02,\n",
              "       -5.70909978e-02,  1.11688746e-01,  4.00221878e-01,  8.65041000e-02,\n",
              "        5.30750304e-03, -1.26249986e-02, -3.74082476e-02, -3.17841249e-01,\n",
              "        2.27917750e-01,  3.56962504e-01, -3.29713758e-01, -1.32391236e-02,\n",
              "        2.86121426e-01,  8.21047027e-02, -1.07260254e-01,  1.24782557e-02,\n",
              "        1.15427579e-02,  1.25124948e-02,  3.69443241e-01,  2.32409979e-02,\n",
              "        3.86173856e-02, -2.37824499e-01,  2.38163747e-01, -1.32918000e-01,\n",
              "       -3.82825062e-02,  9.29025076e-02, -2.73518767e-02,  3.02721248e-01,\n",
              "       -1.30417511e-01, -2.98722012e-02,  1.77506256e-01,  3.35657623e-01,\n",
              "       -1.86496000e-01, -1.78533629e-01,  7.35349981e-02,  1.57375996e-01,\n",
              "       -2.57965006e-01,  4.98824995e-02, -1.96955374e-01,  2.34223754e-01,\n",
              "       -6.06239983e-03, -2.47478750e-01, -1.04966249e-01, -1.21297328e-01,\n",
              "       -2.46639754e-01, -8.77042515e-02, -1.10014497e-01, -2.22216290e-02,\n",
              "        1.82543123e-01, -6.24050009e-02, -3.15021254e-01,  2.19129376e-01,\n",
              "        1.89552495e-01,  8.87956251e-02,  6.48237477e-02,  2.00796747e-01,\n",
              "       -5.59473760e-01, -3.50272125e-01, -2.37488750e-01, -1.83449015e-02,\n",
              "       -4.14756244e+00,  1.23473750e-01,  5.92112541e-02, -1.82026252e-02,\n",
              "        3.61170510e-01,  3.43687460e-02,  8.41974942e-02, -3.20129003e-01,\n",
              "       -2.14918256e-01, -2.22070998e-01,  4.28074997e-01,  4.67189909e-02,\n",
              "       -2.29500001e-01, -8.21862463e-02,  2.99909972e-02,  2.18074955e-03,\n",
              "       -3.06482245e-01, -2.33172515e-02,  2.37371630e-01, -4.20159989e-02,\n",
              "       -2.95312535e-02,  8.57248700e-02,  3.03361241e-01,  1.04297483e-02,\n",
              "        1.09761286e-01,  2.22243253e-01,  4.79473740e-01,  3.55706502e-01,\n",
              "        1.03518758e-01, -2.76156254e-01,  3.64850014e-02, -6.62601255e-02,\n",
              "        1.70086253e-01,  1.09788748e-01, -5.75636243e-02, -9.16112456e-02,\n",
              "        1.49151749e-01,  9.43613728e-02,  6.32647495e-02,  2.29916245e-01,\n",
              "        1.90518688e-01,  1.54063750e-01,  1.32957500e-01, -2.17442862e-01,\n",
              "        5.01066141e-02, -2.48114504e-01,  2.27114963e-01,  3.55837727e-03])"
            ]
          },
          "execution_count": 96,
          "metadata": {},
          "output_type": "execute_result"
        }
      ],
      "source": [
        "sent_vec(\"I am happy\")"
      ]
    },
    {
      "cell_type": "code",
      "execution_count": null,
      "metadata": {
        "colab": {
          "base_uri": "https://localhost:8080/"
        },
        "id": "wIUlbeFqtmqH",
        "outputId": "c5ea862b-d3e2-46f5-a515-71381a41c5dc"
      },
      "outputs": [
        {
          "name": "stdout",
          "output_type": "stream",
          "text": [
            "{'at', 'beside', 'twenty', 'from', 'been', 'ours', 'sometimes', 'sixty', 'in', 'more', 'call', 'there', 'my', 'hereby', 'have', 'over', 'thence', 'whole', 'few', 'becomes', 'seeming', 'we', 'because', 'same', 'on', 'further', 'four', 'n’t', 'had', 'us', 'thereby', 'nevertheless', 'anywhere', 'part', 'neither', \"'d\", 'both', 'seem', 'ca', 'whereby', 'often', 'with', 'being', 'alone', 'what', '’s', 'next', 'done', 'since', '‘ll', 'those', 'everything', 'latterly', 'only', 'show', 'this', 'except', 'besides', 'wherever', 'serious', 'name', \"'re\", 'itself', 'would', 'along', 'too', 'fifteen', 'seems', 'hereafter', 'through', 'our', 'meanwhile', 'n‘t', 'becoming', 'when', 'perhaps', 'so', 'also', 'upon', '’m', 'again', 'nine', 'than', 'several', 'twelve', '‘m', 'per', 'forty', 'beforehand', 'down', 'rather', 'give', 'about', 'to', 'other', 'others', 'full', 'that', 'eleven', 'eight', 'an', '‘d', 'among', 'nowhere', 'once', 'ten', 'therefore', 'will', 'just', 'has', 'namely', 'side', 'whereas', 'her', 'onto', 'who', 'where', 'himself', \"n't\", 'however', 'them', 'are', 'you', 'mine', 'into', 'am', 'formerly', 'though', 'front', 'beyond', 'nor', 'across', 'whoever', 'three', 'sometime', 'used', 'become', 'therein', 'see', '‘s', 'its', 'due', 'all', 'should', 'empty', 'hereupon', 'please', 'bottom', 'most', 'using', 'yourselves', \"'ve\", 'even', 'almost', 'during', 'put', 'another', 'somewhere', 'whom', 'various', 'any', 'each', 'everywhere', 'now', 'thus', 'anyhow', 'last', 'here', 'go', 'themselves', 'does', 'it', 'against', 'never', '‘re', 'no', 'the', 'less', 'else', 'between', 'regarding', 'is', 'quite', 'somehow', 'hers', 'was', '’ll', 'doing', 'but', 'made', 'own', 'whence', 'latter', 'could', 'throughout', 'and', 'two', 'seemed', 'his', 'whose', 'up', 'him', 'may', 'enough', 'move', 'yet', 'do', 'hence', 'afterwards', 'first', \"'m\", 'out', 'she', 'wherein', 'they', 'fifty', 'might', 'anyway', 'their', 'can', 'third', 'mostly', 'some', 'top', 'whether', 'myself', 'ever', 'for', 'if', 'must', 'as', 'before', 'became', 'a', 'were', 'well', 'although', 'already', 'moreover', 'herself', 'someone', 'why', 'either', 'without', 'keep', 'be', 'elsewhere', 'make', 'amongst', 'yourself', 'he', '’re', 'many', 'under', 'six', 'nobody', 'much', 'whenever', 'above', 'within', 'say', 'cannot', 'via', 'least', 'whither', 'around', 'everyone', 'whereafter', 'noone', 'back', 'indeed', 'none', 'anyone', 'otherwise', 're', 'get', 'me', \"'s\", 'amount', 'anything', 'herein', 'until', 'ourselves', 'very', 'still', 'former', 'always', 'every', 'which', '’d', 'how', 'behind', 'or', 'did', '‘ve', 'one', 'together', 'take', 'your', 'off', 'after', 'toward', 'of', 'yours', \"'ll\", 'nothing', 'thru', 'i', 'towards', 'something', 'such', 'whatever', 'thereafter', '’ve', 'below', 'not', 'unless', 'really', 'then', 'hundred', 'thereupon', 'five', 'whereupon', 'while', 'these', 'by'}\n"
          ]
        }
      ],
      "source": [
        "nlp = spacy.load(\"en_core_web_sm\")\n",
        "stop_words = nlp.Defaults.stop_words\n",
        "print(stop_words)"
      ]
    },
    {
      "cell_type": "code",
      "execution_count": null,
      "metadata": {
        "colab": {
          "base_uri": "https://localhost:8080/"
        },
        "id": "ji249YU4tmnr",
        "outputId": "87f85971-99a8-4dfc-afba-125b5a726a7a"
      },
      "outputs": [
        {
          "name": "stdout",
          "output_type": "stream",
          "text": [
            "!\"#$%&'()*+,-./:;<=>?@[\\]^_`{|}~\n"
          ]
        }
      ],
      "source": [
        "punctuations = string.punctuation\n",
        "print(punctuations)"
      ]
    },
    {
      "cell_type": "code",
      "execution_count": null,
      "metadata": {
        "colab": {
          "background_save": true
        },
        "id": "27W89TMOuu1f",
        "outputId": "d5a365a4-63f1-4723-a559-f8f908eb6431"
      },
      "outputs": [
        {
          "name": "stderr",
          "output_type": "stream",
          "text": [
            "<ipython-input-99-87a49ef3cc83>:1: SettingWithCopyWarning: \n",
            "A value is trying to be set on a copy of a slice from a DataFrame.\n",
            "Try using .loc[row_indexer,col_indexer] = value instead\n",
            "\n",
            "See the caveats in the documentation: https://pandas.pydata.org/pandas-docs/stable/user_guide/indexing.html#returning-a-view-versus-a-copy\n",
            "  data['tokens'] = data['tweets'].apply(spacy_tokenizer)\n"
          ]
        }
      ],
      "source": [
        "data['tokens'] = data['tweets'].apply(spacy_tokenizer)"
      ]
    },
    {
      "cell_type": "code",
      "execution_count": null,
      "metadata": {
        "colab": {
          "base_uri": "https://localhost:8080/",
          "height": 206
        },
        "id": "SJG6GMMEtmh7",
        "outputId": "af49071f-e0cc-4414-ead5-88885e5b347f"
      },
      "outputs": [
        {
          "output_type": "execute_result",
          "data": {
            "text/plain": [
              "                                              tweets       class  \\\n",
              "0  be aware dirty step to get money staylight sta...  figurative   \n",
              "1   sarcasm for people who don understand diy art...  figurative   \n",
              "2   iminworkjeremy medsingle dailymail readers be...  figurative   \n",
              "3   wilw why do get the feeling you like games sa...  figurative   \n",
              "4   teacherarthurg rweingarten you probably just ...  figurative   \n",
              "\n",
              "                                              tokens  \n",
              "0  [aware, dirty, step, money, staylight, staywhi...  \n",
              "1  [sarcasm, people, don, understand, diy, artatt...  \n",
              "2  [iminworkjeremy, medsingle, dailymail, reader,...  \n",
              "3               [wilw, feeling, like, game, sarcasm]  \n",
              "4  [teacherarthurg, rweingarten, probably, miss, ...  "
            ],
            "text/html": [
              "\n",
              "  <div id=\"df-959b200f-cf8c-4f11-86ad-0d1fcb05d0ce\">\n",
              "    <div class=\"colab-df-container\">\n",
              "      <div>\n",
              "<style scoped>\n",
              "    .dataframe tbody tr th:only-of-type {\n",
              "        vertical-align: middle;\n",
              "    }\n",
              "\n",
              "    .dataframe tbody tr th {\n",
              "        vertical-align: top;\n",
              "    }\n",
              "\n",
              "    .dataframe thead th {\n",
              "        text-align: right;\n",
              "    }\n",
              "</style>\n",
              "<table border=\"1\" class=\"dataframe\">\n",
              "  <thead>\n",
              "    <tr style=\"text-align: right;\">\n",
              "      <th></th>\n",
              "      <th>tweets</th>\n",
              "      <th>class</th>\n",
              "      <th>tokens</th>\n",
              "    </tr>\n",
              "  </thead>\n",
              "  <tbody>\n",
              "    <tr>\n",
              "      <th>0</th>\n",
              "      <td>be aware dirty step to get money staylight sta...</td>\n",
              "      <td>figurative</td>\n",
              "      <td>[aware, dirty, step, money, staylight, staywhi...</td>\n",
              "    </tr>\n",
              "    <tr>\n",
              "      <th>1</th>\n",
              "      <td>sarcasm for people who don understand diy art...</td>\n",
              "      <td>figurative</td>\n",
              "      <td>[sarcasm, people, don, understand, diy, artatt...</td>\n",
              "    </tr>\n",
              "    <tr>\n",
              "      <th>2</th>\n",
              "      <td>iminworkjeremy medsingle dailymail readers be...</td>\n",
              "      <td>figurative</td>\n",
              "      <td>[iminworkjeremy, medsingle, dailymail, reader,...</td>\n",
              "    </tr>\n",
              "    <tr>\n",
              "      <th>3</th>\n",
              "      <td>wilw why do get the feeling you like games sa...</td>\n",
              "      <td>figurative</td>\n",
              "      <td>[wilw, feeling, like, game, sarcasm]</td>\n",
              "    </tr>\n",
              "    <tr>\n",
              "      <th>4</th>\n",
              "      <td>teacherarthurg rweingarten you probably just ...</td>\n",
              "      <td>figurative</td>\n",
              "      <td>[teacherarthurg, rweingarten, probably, miss, ...</td>\n",
              "    </tr>\n",
              "  </tbody>\n",
              "</table>\n",
              "</div>\n",
              "      <button class=\"colab-df-convert\" onclick=\"convertToInteractive('df-959b200f-cf8c-4f11-86ad-0d1fcb05d0ce')\"\n",
              "              title=\"Convert this dataframe to an interactive table.\"\n",
              "              style=\"display:none;\">\n",
              "        \n",
              "  <svg xmlns=\"http://www.w3.org/2000/svg\" height=\"24px\"viewBox=\"0 0 24 24\"\n",
              "       width=\"24px\">\n",
              "    <path d=\"M0 0h24v24H0V0z\" fill=\"none\"/>\n",
              "    <path d=\"M18.56 5.44l.94 2.06.94-2.06 2.06-.94-2.06-.94-.94-2.06-.94 2.06-2.06.94zm-11 1L8.5 8.5l.94-2.06 2.06-.94-2.06-.94L8.5 2.5l-.94 2.06-2.06.94zm10 10l.94 2.06.94-2.06 2.06-.94-2.06-.94-.94-2.06-.94 2.06-2.06.94z\"/><path d=\"M17.41 7.96l-1.37-1.37c-.4-.4-.92-.59-1.43-.59-.52 0-1.04.2-1.43.59L10.3 9.45l-7.72 7.72c-.78.78-.78 2.05 0 2.83L4 21.41c.39.39.9.59 1.41.59.51 0 1.02-.2 1.41-.59l7.78-7.78 2.81-2.81c.8-.78.8-2.07 0-2.86zM5.41 20L4 18.59l7.72-7.72 1.47 1.35L5.41 20z\"/>\n",
              "  </svg>\n",
              "      </button>\n",
              "      \n",
              "  <style>\n",
              "    .colab-df-container {\n",
              "      display:flex;\n",
              "      flex-wrap:wrap;\n",
              "      gap: 12px;\n",
              "    }\n",
              "\n",
              "    .colab-df-convert {\n",
              "      background-color: #E8F0FE;\n",
              "      border: none;\n",
              "      border-radius: 50%;\n",
              "      cursor: pointer;\n",
              "      display: none;\n",
              "      fill: #1967D2;\n",
              "      height: 32px;\n",
              "      padding: 0 0 0 0;\n",
              "      width: 32px;\n",
              "    }\n",
              "\n",
              "    .colab-df-convert:hover {\n",
              "      background-color: #E2EBFA;\n",
              "      box-shadow: 0px 1px 2px rgba(60, 64, 67, 0.3), 0px 1px 3px 1px rgba(60, 64, 67, 0.15);\n",
              "      fill: #174EA6;\n",
              "    }\n",
              "\n",
              "    [theme=dark] .colab-df-convert {\n",
              "      background-color: #3B4455;\n",
              "      fill: #D2E3FC;\n",
              "    }\n",
              "\n",
              "    [theme=dark] .colab-df-convert:hover {\n",
              "      background-color: #434B5C;\n",
              "      box-shadow: 0px 1px 3px 1px rgba(0, 0, 0, 0.15);\n",
              "      filter: drop-shadow(0px 1px 2px rgba(0, 0, 0, 0.3));\n",
              "      fill: #FFFFFF;\n",
              "    }\n",
              "  </style>\n",
              "\n",
              "      <script>\n",
              "        const buttonEl =\n",
              "          document.querySelector('#df-959b200f-cf8c-4f11-86ad-0d1fcb05d0ce button.colab-df-convert');\n",
              "        buttonEl.style.display =\n",
              "          google.colab.kernel.accessAllowed ? 'block' : 'none';\n",
              "\n",
              "        async function convertToInteractive(key) {\n",
              "          const element = document.querySelector('#df-959b200f-cf8c-4f11-86ad-0d1fcb05d0ce');\n",
              "          const dataTable =\n",
              "            await google.colab.kernel.invokeFunction('convertToInteractive',\n",
              "                                                     [key], {});\n",
              "          if (!dataTable) return;\n",
              "\n",
              "          const docLinkHtml = 'Like what you see? Visit the ' +\n",
              "            '<a target=\"_blank\" href=https://colab.research.google.com/notebooks/data_table.ipynb>data table notebook</a>'\n",
              "            + ' to learn more about interactive tables.';\n",
              "          element.innerHTML = '';\n",
              "          dataTable['output_type'] = 'display_data';\n",
              "          await google.colab.output.renderOutput(dataTable, element);\n",
              "          const docLink = document.createElement('div');\n",
              "          docLink.innerHTML = docLinkHtml;\n",
              "          element.appendChild(docLink);\n",
              "        }\n",
              "      </script>\n",
              "    </div>\n",
              "  </div>\n",
              "  "
            ]
          },
          "metadata": {},
          "execution_count": 100
        }
      ],
      "source": [
        "data.head()"
      ]
    },
    {
      "cell_type": "code",
      "execution_count": null,
      "metadata": {
        "colab": {
          "base_uri": "https://localhost:8080/"
        },
        "id": "6dqvy2n8tmex",
        "outputId": "1b5cf856-1b22-455d-9559-bb557aaf8131"
      },
      "outputs": [
        {
          "output_type": "stream",
          "name": "stderr",
          "text": [
            "<ipython-input-101-697b65f9d5c0>:1: SettingWithCopyWarning: \n",
            "A value is trying to be set on a copy of a slice from a DataFrame.\n",
            "Try using .loc[row_indexer,col_indexer] = value instead\n",
            "\n",
            "See the caveats in the documentation: https://pandas.pydata.org/pandas-docs/stable/user_guide/indexing.html#returning-a-view-versus-a-copy\n",
            "  data['vec'] = data['tokens'].apply(sent_vec)\n"
          ]
        }
      ],
      "source": [
        "data['vec'] = data['tokens'].apply(sent_vec)"
      ]
    },
    {
      "cell_type": "code",
      "execution_count": null,
      "metadata": {
        "colab": {
          "base_uri": "https://localhost:8080/",
          "height": 250
        },
        "id": "gZg_1Gd8uMR2",
        "outputId": "2762db2e-6ac2-4eb8-c178-261a5f115d72"
      },
      "outputs": [
        {
          "output_type": "execute_result",
          "data": {
            "text/plain": [
              "                                              tweets       class  \\\n",
              "0  be aware dirty step to get money staylight sta...  figurative   \n",
              "1   sarcasm for people who don understand diy art...  figurative   \n",
              "2   iminworkjeremy medsingle dailymail readers be...  figurative   \n",
              "3   wilw why do get the feeling you like games sa...  figurative   \n",
              "4   teacherarthurg rweingarten you probably just ...  figurative   \n",
              "\n",
              "                                              tokens  \\\n",
              "0  [aware, dirty, step, money, staylight, staywhi...   \n",
              "1  [sarcasm, people, don, understand, diy, artatt...   \n",
              "2  [iminworkjeremy, medsingle, dailymail, reader,...   \n",
              "3               [wilw, feeling, like, game, sarcasm]   \n",
              "4  [teacherarthurg, rweingarten, probably, miss, ...   \n",
              "\n",
              "                                                 vec  \n",
              "0  [0.035690002143383026, -0.02036833018064499, -...  \n",
              "1  [0.04091092028344671, 0.08042833540174696, -0....  \n",
              "2  [0.19440557233368358, 0.11863167583942413, -0....  \n",
              "3  [0.31178060043603184, 0.14631346073001622, 0.0...  \n",
              "4  [0.165470680128783, 0.41472579091787337, -0.11...  "
            ],
            "text/html": [
              "\n",
              "  <div id=\"df-379615d7-5a4b-44ef-997b-ce0aa9d85d56\">\n",
              "    <div class=\"colab-df-container\">\n",
              "      <div>\n",
              "<style scoped>\n",
              "    .dataframe tbody tr th:only-of-type {\n",
              "        vertical-align: middle;\n",
              "    }\n",
              "\n",
              "    .dataframe tbody tr th {\n",
              "        vertical-align: top;\n",
              "    }\n",
              "\n",
              "    .dataframe thead th {\n",
              "        text-align: right;\n",
              "    }\n",
              "</style>\n",
              "<table border=\"1\" class=\"dataframe\">\n",
              "  <thead>\n",
              "    <tr style=\"text-align: right;\">\n",
              "      <th></th>\n",
              "      <th>tweets</th>\n",
              "      <th>class</th>\n",
              "      <th>tokens</th>\n",
              "      <th>vec</th>\n",
              "    </tr>\n",
              "  </thead>\n",
              "  <tbody>\n",
              "    <tr>\n",
              "      <th>0</th>\n",
              "      <td>be aware dirty step to get money staylight sta...</td>\n",
              "      <td>figurative</td>\n",
              "      <td>[aware, dirty, step, money, staylight, staywhi...</td>\n",
              "      <td>[0.035690002143383026, -0.02036833018064499, -...</td>\n",
              "    </tr>\n",
              "    <tr>\n",
              "      <th>1</th>\n",
              "      <td>sarcasm for people who don understand diy art...</td>\n",
              "      <td>figurative</td>\n",
              "      <td>[sarcasm, people, don, understand, diy, artatt...</td>\n",
              "      <td>[0.04091092028344671, 0.08042833540174696, -0....</td>\n",
              "    </tr>\n",
              "    <tr>\n",
              "      <th>2</th>\n",
              "      <td>iminworkjeremy medsingle dailymail readers be...</td>\n",
              "      <td>figurative</td>\n",
              "      <td>[iminworkjeremy, medsingle, dailymail, reader,...</td>\n",
              "      <td>[0.19440557233368358, 0.11863167583942413, -0....</td>\n",
              "    </tr>\n",
              "    <tr>\n",
              "      <th>3</th>\n",
              "      <td>wilw why do get the feeling you like games sa...</td>\n",
              "      <td>figurative</td>\n",
              "      <td>[wilw, feeling, like, game, sarcasm]</td>\n",
              "      <td>[0.31178060043603184, 0.14631346073001622, 0.0...</td>\n",
              "    </tr>\n",
              "    <tr>\n",
              "      <th>4</th>\n",
              "      <td>teacherarthurg rweingarten you probably just ...</td>\n",
              "      <td>figurative</td>\n",
              "      <td>[teacherarthurg, rweingarten, probably, miss, ...</td>\n",
              "      <td>[0.165470680128783, 0.41472579091787337, -0.11...</td>\n",
              "    </tr>\n",
              "  </tbody>\n",
              "</table>\n",
              "</div>\n",
              "      <button class=\"colab-df-convert\" onclick=\"convertToInteractive('df-379615d7-5a4b-44ef-997b-ce0aa9d85d56')\"\n",
              "              title=\"Convert this dataframe to an interactive table.\"\n",
              "              style=\"display:none;\">\n",
              "        \n",
              "  <svg xmlns=\"http://www.w3.org/2000/svg\" height=\"24px\"viewBox=\"0 0 24 24\"\n",
              "       width=\"24px\">\n",
              "    <path d=\"M0 0h24v24H0V0z\" fill=\"none\"/>\n",
              "    <path d=\"M18.56 5.44l.94 2.06.94-2.06 2.06-.94-2.06-.94-.94-2.06-.94 2.06-2.06.94zm-11 1L8.5 8.5l.94-2.06 2.06-.94-2.06-.94L8.5 2.5l-.94 2.06-2.06.94zm10 10l.94 2.06.94-2.06 2.06-.94-2.06-.94-.94-2.06-.94 2.06-2.06.94z\"/><path d=\"M17.41 7.96l-1.37-1.37c-.4-.4-.92-.59-1.43-.59-.52 0-1.04.2-1.43.59L10.3 9.45l-7.72 7.72c-.78.78-.78 2.05 0 2.83L4 21.41c.39.39.9.59 1.41.59.51 0 1.02-.2 1.41-.59l7.78-7.78 2.81-2.81c.8-.78.8-2.07 0-2.86zM5.41 20L4 18.59l7.72-7.72 1.47 1.35L5.41 20z\"/>\n",
              "  </svg>\n",
              "      </button>\n",
              "      \n",
              "  <style>\n",
              "    .colab-df-container {\n",
              "      display:flex;\n",
              "      flex-wrap:wrap;\n",
              "      gap: 12px;\n",
              "    }\n",
              "\n",
              "    .colab-df-convert {\n",
              "      background-color: #E8F0FE;\n",
              "      border: none;\n",
              "      border-radius: 50%;\n",
              "      cursor: pointer;\n",
              "      display: none;\n",
              "      fill: #1967D2;\n",
              "      height: 32px;\n",
              "      padding: 0 0 0 0;\n",
              "      width: 32px;\n",
              "    }\n",
              "\n",
              "    .colab-df-convert:hover {\n",
              "      background-color: #E2EBFA;\n",
              "      box-shadow: 0px 1px 2px rgba(60, 64, 67, 0.3), 0px 1px 3px 1px rgba(60, 64, 67, 0.15);\n",
              "      fill: #174EA6;\n",
              "    }\n",
              "\n",
              "    [theme=dark] .colab-df-convert {\n",
              "      background-color: #3B4455;\n",
              "      fill: #D2E3FC;\n",
              "    }\n",
              "\n",
              "    [theme=dark] .colab-df-convert:hover {\n",
              "      background-color: #434B5C;\n",
              "      box-shadow: 0px 1px 3px 1px rgba(0, 0, 0, 0.15);\n",
              "      filter: drop-shadow(0px 1px 2px rgba(0, 0, 0, 0.3));\n",
              "      fill: #FFFFFF;\n",
              "    }\n",
              "  </style>\n",
              "\n",
              "      <script>\n",
              "        const buttonEl =\n",
              "          document.querySelector('#df-379615d7-5a4b-44ef-997b-ce0aa9d85d56 button.colab-df-convert');\n",
              "        buttonEl.style.display =\n",
              "          google.colab.kernel.accessAllowed ? 'block' : 'none';\n",
              "\n",
              "        async function convertToInteractive(key) {\n",
              "          const element = document.querySelector('#df-379615d7-5a4b-44ef-997b-ce0aa9d85d56');\n",
              "          const dataTable =\n",
              "            await google.colab.kernel.invokeFunction('convertToInteractive',\n",
              "                                                     [key], {});\n",
              "          if (!dataTable) return;\n",
              "\n",
              "          const docLinkHtml = 'Like what you see? Visit the ' +\n",
              "            '<a target=\"_blank\" href=https://colab.research.google.com/notebooks/data_table.ipynb>data table notebook</a>'\n",
              "            + ' to learn more about interactive tables.';\n",
              "          element.innerHTML = '';\n",
              "          dataTable['output_type'] = 'display_data';\n",
              "          await google.colab.output.renderOutput(dataTable, element);\n",
              "          const docLink = document.createElement('div');\n",
              "          docLink.innerHTML = docLinkHtml;\n",
              "          element.appendChild(docLink);\n",
              "        }\n",
              "      </script>\n",
              "    </div>\n",
              "  </div>\n",
              "  "
            ]
          },
          "metadata": {},
          "execution_count": 102
        }
      ],
      "source": [
        "data.head()"
      ]
    },
    {
      "cell_type": "code",
      "execution_count": null,
      "metadata": {
        "colab": {
          "base_uri": "https://localhost:8080/"
        },
        "id": "EX5oqm1eUlwy",
        "outputId": "36004f28-87ee-4a5e-b266-0b58b8972c06"
      },
      "outputs": [
        {
          "output_type": "stream",
          "name": "stderr",
          "text": [
            "<ipython-input-103-c4859a6af159>:1: SettingWithCopyWarning: \n",
            "A value is trying to be set on a copy of a slice from a DataFrame.\n",
            "Try using .loc[row_indexer,col_indexer] = value instead\n",
            "\n",
            "See the caveats in the documentation: https://pandas.pydata.org/pandas-docs/stable/user_guide/indexing.html#returning-a-view-versus-a-copy\n",
            "  data['class'] = data['class'].replace({\"figurative\":0,\"irony\":1,\"regular\":2,\"sarcasm\":3})\n"
          ]
        }
      ],
      "source": [
        "data['class'] = data['class'].replace({\"figurative\":0,\"irony\":1,\"regular\":2,\"sarcasm\":3})"
      ]
    },
    {
      "cell_type": "code",
      "execution_count": null,
      "metadata": {
        "colab": {
          "base_uri": "https://localhost:8080/",
          "height": 206
        },
        "id": "ngUcMjrLUpvc",
        "outputId": "4011a2f9-570a-4282-9686-f630dd82f28e"
      },
      "outputs": [
        {
          "output_type": "execute_result",
          "data": {
            "text/plain": [
              "                                              tweets  class  \\\n",
              "0  be aware dirty step to get money staylight sta...      0   \n",
              "1   sarcasm for people who don understand diy art...      0   \n",
              "2   iminworkjeremy medsingle dailymail readers be...      0   \n",
              "3   wilw why do get the feeling you like games sa...      0   \n",
              "4   teacherarthurg rweingarten you probably just ...      0   \n",
              "\n",
              "                                              tokens  \\\n",
              "0  [aware, dirty, step, money, staylight, staywhi...   \n",
              "1  [sarcasm, people, don, understand, diy, artatt...   \n",
              "2  [iminworkjeremy, medsingle, dailymail, reader,...   \n",
              "3               [wilw, feeling, like, game, sarcasm]   \n",
              "4  [teacherarthurg, rweingarten, probably, miss, ...   \n",
              "\n",
              "                                                 vec  \n",
              "0  [0.035690002143383026, -0.02036833018064499, -...  \n",
              "1  [0.04091092028344671, 0.08042833540174696, -0....  \n",
              "2  [0.19440557233368358, 0.11863167583942413, -0....  \n",
              "3  [0.31178060043603184, 0.14631346073001622, 0.0...  \n",
              "4  [0.165470680128783, 0.41472579091787337, -0.11...  "
            ],
            "text/html": [
              "\n",
              "  <div id=\"df-4759e5ce-a2c2-4adc-af58-8e6074328a49\">\n",
              "    <div class=\"colab-df-container\">\n",
              "      <div>\n",
              "<style scoped>\n",
              "    .dataframe tbody tr th:only-of-type {\n",
              "        vertical-align: middle;\n",
              "    }\n",
              "\n",
              "    .dataframe tbody tr th {\n",
              "        vertical-align: top;\n",
              "    }\n",
              "\n",
              "    .dataframe thead th {\n",
              "        text-align: right;\n",
              "    }\n",
              "</style>\n",
              "<table border=\"1\" class=\"dataframe\">\n",
              "  <thead>\n",
              "    <tr style=\"text-align: right;\">\n",
              "      <th></th>\n",
              "      <th>tweets</th>\n",
              "      <th>class</th>\n",
              "      <th>tokens</th>\n",
              "      <th>vec</th>\n",
              "    </tr>\n",
              "  </thead>\n",
              "  <tbody>\n",
              "    <tr>\n",
              "      <th>0</th>\n",
              "      <td>be aware dirty step to get money staylight sta...</td>\n",
              "      <td>0</td>\n",
              "      <td>[aware, dirty, step, money, staylight, staywhi...</td>\n",
              "      <td>[0.035690002143383026, -0.02036833018064499, -...</td>\n",
              "    </tr>\n",
              "    <tr>\n",
              "      <th>1</th>\n",
              "      <td>sarcasm for people who don understand diy art...</td>\n",
              "      <td>0</td>\n",
              "      <td>[sarcasm, people, don, understand, diy, artatt...</td>\n",
              "      <td>[0.04091092028344671, 0.08042833540174696, -0....</td>\n",
              "    </tr>\n",
              "    <tr>\n",
              "      <th>2</th>\n",
              "      <td>iminworkjeremy medsingle dailymail readers be...</td>\n",
              "      <td>0</td>\n",
              "      <td>[iminworkjeremy, medsingle, dailymail, reader,...</td>\n",
              "      <td>[0.19440557233368358, 0.11863167583942413, -0....</td>\n",
              "    </tr>\n",
              "    <tr>\n",
              "      <th>3</th>\n",
              "      <td>wilw why do get the feeling you like games sa...</td>\n",
              "      <td>0</td>\n",
              "      <td>[wilw, feeling, like, game, sarcasm]</td>\n",
              "      <td>[0.31178060043603184, 0.14631346073001622, 0.0...</td>\n",
              "    </tr>\n",
              "    <tr>\n",
              "      <th>4</th>\n",
              "      <td>teacherarthurg rweingarten you probably just ...</td>\n",
              "      <td>0</td>\n",
              "      <td>[teacherarthurg, rweingarten, probably, miss, ...</td>\n",
              "      <td>[0.165470680128783, 0.41472579091787337, -0.11...</td>\n",
              "    </tr>\n",
              "  </tbody>\n",
              "</table>\n",
              "</div>\n",
              "      <button class=\"colab-df-convert\" onclick=\"convertToInteractive('df-4759e5ce-a2c2-4adc-af58-8e6074328a49')\"\n",
              "              title=\"Convert this dataframe to an interactive table.\"\n",
              "              style=\"display:none;\">\n",
              "        \n",
              "  <svg xmlns=\"http://www.w3.org/2000/svg\" height=\"24px\"viewBox=\"0 0 24 24\"\n",
              "       width=\"24px\">\n",
              "    <path d=\"M0 0h24v24H0V0z\" fill=\"none\"/>\n",
              "    <path d=\"M18.56 5.44l.94 2.06.94-2.06 2.06-.94-2.06-.94-.94-2.06-.94 2.06-2.06.94zm-11 1L8.5 8.5l.94-2.06 2.06-.94-2.06-.94L8.5 2.5l-.94 2.06-2.06.94zm10 10l.94 2.06.94-2.06 2.06-.94-2.06-.94-.94-2.06-.94 2.06-2.06.94z\"/><path d=\"M17.41 7.96l-1.37-1.37c-.4-.4-.92-.59-1.43-.59-.52 0-1.04.2-1.43.59L10.3 9.45l-7.72 7.72c-.78.78-.78 2.05 0 2.83L4 21.41c.39.39.9.59 1.41.59.51 0 1.02-.2 1.41-.59l7.78-7.78 2.81-2.81c.8-.78.8-2.07 0-2.86zM5.41 20L4 18.59l7.72-7.72 1.47 1.35L5.41 20z\"/>\n",
              "  </svg>\n",
              "      </button>\n",
              "      \n",
              "  <style>\n",
              "    .colab-df-container {\n",
              "      display:flex;\n",
              "      flex-wrap:wrap;\n",
              "      gap: 12px;\n",
              "    }\n",
              "\n",
              "    .colab-df-convert {\n",
              "      background-color: #E8F0FE;\n",
              "      border: none;\n",
              "      border-radius: 50%;\n",
              "      cursor: pointer;\n",
              "      display: none;\n",
              "      fill: #1967D2;\n",
              "      height: 32px;\n",
              "      padding: 0 0 0 0;\n",
              "      width: 32px;\n",
              "    }\n",
              "\n",
              "    .colab-df-convert:hover {\n",
              "      background-color: #E2EBFA;\n",
              "      box-shadow: 0px 1px 2px rgba(60, 64, 67, 0.3), 0px 1px 3px 1px rgba(60, 64, 67, 0.15);\n",
              "      fill: #174EA6;\n",
              "    }\n",
              "\n",
              "    [theme=dark] .colab-df-convert {\n",
              "      background-color: #3B4455;\n",
              "      fill: #D2E3FC;\n",
              "    }\n",
              "\n",
              "    [theme=dark] .colab-df-convert:hover {\n",
              "      background-color: #434B5C;\n",
              "      box-shadow: 0px 1px 3px 1px rgba(0, 0, 0, 0.15);\n",
              "      filter: drop-shadow(0px 1px 2px rgba(0, 0, 0, 0.3));\n",
              "      fill: #FFFFFF;\n",
              "    }\n",
              "  </style>\n",
              "\n",
              "      <script>\n",
              "        const buttonEl =\n",
              "          document.querySelector('#df-4759e5ce-a2c2-4adc-af58-8e6074328a49 button.colab-df-convert');\n",
              "        buttonEl.style.display =\n",
              "          google.colab.kernel.accessAllowed ? 'block' : 'none';\n",
              "\n",
              "        async function convertToInteractive(key) {\n",
              "          const element = document.querySelector('#df-4759e5ce-a2c2-4adc-af58-8e6074328a49');\n",
              "          const dataTable =\n",
              "            await google.colab.kernel.invokeFunction('convertToInteractive',\n",
              "                                                     [key], {});\n",
              "          if (!dataTable) return;\n",
              "\n",
              "          const docLinkHtml = 'Like what you see? Visit the ' +\n",
              "            '<a target=\"_blank\" href=https://colab.research.google.com/notebooks/data_table.ipynb>data table notebook</a>'\n",
              "            + ' to learn more about interactive tables.';\n",
              "          element.innerHTML = '';\n",
              "          dataTable['output_type'] = 'display_data';\n",
              "          await google.colab.output.renderOutput(dataTable, element);\n",
              "          const docLink = document.createElement('div');\n",
              "          docLink.innerHTML = docLinkHtml;\n",
              "          element.appendChild(docLink);\n",
              "        }\n",
              "      </script>\n",
              "    </div>\n",
              "  </div>\n",
              "  "
            ]
          },
          "metadata": {},
          "execution_count": 104
        }
      ],
      "source": [
        "data.head()"
      ]
    },
    {
      "cell_type": "code",
      "execution_count": null,
      "metadata": {
        "colab": {
          "base_uri": "https://localhost:8080/"
        },
        "id": "_saTXy1Ke0GK",
        "outputId": "37868072-288a-4fc4-c9a0-37ad5bb7af7b"
      },
      "outputs": [
        {
          "output_type": "execute_result",
          "data": {
            "text/plain": [
              "0        0\n",
              "1        0\n",
              "2        0\n",
              "3        0\n",
              "4        0\n",
              "        ..\n",
              "81403    3\n",
              "81404    3\n",
              "81405    3\n",
              "81406    3\n",
              "81407    3\n",
              "Name: class, Length: 81359, dtype: int64"
            ]
          },
          "metadata": {},
          "execution_count": 105
        }
      ],
      "source": [
        "y = data[\"class\"]\n",
        "y"
      ]
    },
    {
      "cell_type": "code",
      "execution_count": null,
      "metadata": {
        "id": "3SjmwatS9Emn"
      },
      "outputs": [],
      "source": [
        "from sklearn.preprocessing import LabelEncoder\n",
        "\n",
        "encoder = LabelEncoder()\n",
        "\n",
        "y = encoder.fit_transform(y)"
      ]
    },
    {
      "cell_type": "code",
      "execution_count": null,
      "metadata": {
        "colab": {
          "base_uri": "https://localhost:8080/"
        },
        "id": "RWkkMYhQ9EjU",
        "outputId": "ad37cc32-f670-4bc5-f083-83040304067f"
      },
      "outputs": [
        {
          "output_type": "execute_result",
          "data": {
            "text/plain": [
              "array([0, 0, 0, ..., 3, 3, 3])"
            ]
          },
          "metadata": {},
          "execution_count": 108
        }
      ],
      "source": [
        "y"
      ]
    },
    {
      "cell_type": "code",
      "execution_count": null,
      "metadata": {
        "id": "gbVBUqw59EhB"
      },
      "outputs": [],
      "source": [
        "X=data['vec'].to_list()\n",
        "y=data['class'].to_list()"
      ]
    },
    {
      "cell_type": "code",
      "execution_count": null,
      "metadata": {
        "colab": {
          "base_uri": "https://localhost:8080/"
        },
        "id": "PXS4R5Kg9EeU",
        "outputId": "f6eb1837-a3cc-4cf3-8578-b5469894adf5"
      },
      "outputs": [
        {
          "output_type": "execute_result",
          "data": {
            "text/plain": [
              "array([ 3.56900021e-02, -2.03683302e-02, -1.02734169e-01,  9.21209844e-02,\n",
              "       -3.98151670e-02,  1.72514990e-01,  7.39490002e-01, -3.31711333e-01,\n",
              "       -2.98850089e-02,  1.38390831e-01, -2.17379998e-01,  2.32681663e-02,\n",
              "       -5.57193339e-01,  2.61166940e-03, -4.18886611e-02,  1.94592328e-01,\n",
              "       -9.97033417e-02,  2.36396655e-01,  1.52535661e-01,  1.91167832e-02,\n",
              "       -2.72611702e-02, -1.64361661e-02,  1.22401838e-01, -2.10628328e-01,\n",
              "       -5.75828360e-02,  1.03324499e+00,  9.11258360e-02,  5.66910702e-02,\n",
              "       -2.09197339e-01, -1.32858501e-01,  3.50010235e-01, -1.00910867e-01,\n",
              "       -9.96989968e-02,  3.12215065e-02, -2.39644665e-01,  1.42703171e-01,\n",
              "        1.50815000e-01,  2.13364330e-01, -1.71031691e-02, -9.12181654e-02,\n",
              "        3.48550664e-01,  1.60229838e-01,  2.99925823e-01,  1.18549501e-01,\n",
              "        1.02994998e-01,  8.94883325e-02,  2.67540004e-01,  2.79306668e-01,\n",
              "       -6.90196548e-02,  3.29824662e-01,  1.49668671e-01,  1.20463831e-01,\n",
              "       -1.79369334e-01, -3.66154994e-01, -6.93390034e-02, -6.34221692e-02,\n",
              "       -1.75772833e-01,  2.56495035e-02, -8.25370004e-02, -1.43761504e-01,\n",
              "       -1.29043829e-01,  2.00324999e-01, -2.05738328e-01,  5.23396656e-02,\n",
              "        1.06555831e-01, -5.77800001e-02, -2.26446719e-02, -1.19653329e-01,\n",
              "       -2.05645332e-01,  1.00838000e-01, -2.01535788e-01,  6.86430015e-02,\n",
              "       -1.80332335e-01, -2.91226689e-02,  2.68666670e-02,  7.27608992e-02,\n",
              "        5.60788292e-02,  7.81850641e-03,  8.63750062e-03,  3.31783320e-02,\n",
              "       -9.50375112e-02,  2.18999932e-02, -5.55431681e-02, -3.35309858e-01,\n",
              "       -4.04529632e-02,  9.56178283e-02, -6.49283392e-03,  5.33244970e-02,\n",
              "       -7.16098308e-02,  3.81583373e-02,  1.19366720e-02,  2.86408332e-01,\n",
              "        1.69258334e-01, -1.65884006e-02,  2.49305002e-01,  1.44188330e-01,\n",
              "        7.08466644e-02, -1.61486333e-01,  1.50355005e-01,  2.01528336e-01,\n",
              "       -5.28163332e-02, -5.72516645e-02, -4.94119833e-02,  1.18578992e-01,\n",
              "        1.79150885e-01, -2.02198320e-02,  2.49311332e-01,  1.62304165e-01,\n",
              "        1.93728914e-01, -3.71323327e-02,  1.14096661e-01, -1.61279497e-01,\n",
              "       -5.61356648e-02,  1.22684173e-01,  1.46919169e-01,  2.80172497e-01,\n",
              "       -8.32563033e-03,  1.39493834e-01,  8.67380474e-03,  1.06483340e-01,\n",
              "       -3.18468341e-01, -1.97880330e-01, -1.32172334e-01, -1.52450000e-01,\n",
              "        8.29499898e-03,  5.96916700e-02,  7.99703312e-02, -6.93949958e-02,\n",
              "        2.00483331e-01, -4.80074997e-02,  9.29616652e-02,  8.21716686e-02,\n",
              "        3.44649951e-03, -9.32305008e-02, -8.10078296e-02,  1.95292167e-01,\n",
              "       -1.17526657e-02, -8.81666665e-02,  2.73359006e-01, -2.14642335e-01,\n",
              "       -2.05893355e-02, -1.75824960e-02, -6.04826653e-02, -1.38245004e-01,\n",
              "       -1.20755664e-01,  1.03309158e-01,  9.88604985e-02, -1.11108504e-01,\n",
              "        1.68972004e-01, -2.92627499e-01,  2.43136678e-02, -1.54062502e-01,\n",
              "       -2.88036668e+00, -7.24376577e-02, -7.32256634e-02, -1.01290336e-01,\n",
              "        7.78299832e-02, -5.58416670e-02,  1.27266670e-01,  2.55853310e-02,\n",
              "       -9.25849974e-02, -2.80553332e-02,  8.11945001e-02, -2.58223332e-01,\n",
              "        1.91366623e-02, -1.73754015e-01,  1.70570035e-01,  4.97699864e-02,\n",
              "       -2.16521639e-02,  1.76445831e-01,  5.36054373e-02,  1.26940009e-02,\n",
              "       -1.48106970e-01,  1.73833338e-01, -2.92694998e-01, -9.89968370e-02,\n",
              "        1.72431670e-01, -1.14651162e-01,  1.10026831e-01, -3.33658343e-01,\n",
              "        6.34635207e-02,  1.62153500e-01,  2.93503342e-02, -5.09498380e-02,\n",
              "        2.21288829e-01,  1.35201668e-01,  8.72166951e-03,  1.95301690e-02,\n",
              "        7.00366671e-02,  1.69511670e-01, -1.61034335e-01,  2.68421688e-02,\n",
              "       -2.21301162e-01, -4.09039248e-02,  5.21933312e-02, -1.20301497e-01,\n",
              "       -1.09434702e-01,  1.78309999e-01,  3.55826685e-02, -2.11162665e-01])"
            ]
          },
          "metadata": {},
          "execution_count": 110
        }
      ],
      "source": [
        "X[0]"
      ]
    },
    {
      "cell_type": "code",
      "execution_count": null,
      "metadata": {
        "colab": {
          "base_uri": "https://localhost:8080/"
        },
        "id": "vHc_cu9TTTMM",
        "outputId": "46c8a748-f50a-43cd-9eab-ec573620f979"
      },
      "outputs": [
        {
          "output_type": "execute_result",
          "data": {
            "text/plain": [
              "0"
            ]
          },
          "metadata": {},
          "execution_count": 111
        }
      ],
      "source": [
        "y[0]"
      ]
    },
    {
      "cell_type": "code",
      "execution_count": null,
      "metadata": {
        "colab": {
          "base_uri": "https://localhost:8080/"
        },
        "id": "QEomgSLEHDO1",
        "outputId": "4265c3d4-6e3e-44eb-a76e-c246f2c03f78"
      },
      "outputs": [
        {
          "output_type": "stream",
          "name": "stdout",
          "text": [
            "<class 'pandas.core.frame.DataFrame'>\n",
            "Int64Index: 81359 entries, 0 to 81407\n",
            "Data columns (total 4 columns):\n",
            " #   Column  Non-Null Count  Dtype \n",
            "---  ------  --------------  ----- \n",
            " 0   tweets  81359 non-null  object\n",
            " 1   class   81359 non-null  int64 \n",
            " 2   tokens  81359 non-null  object\n",
            " 3   vec     81359 non-null  object\n",
            "dtypes: int64(1), object(3)\n",
            "memory usage: 5.1+ MB\n"
          ]
        }
      ],
      "source": [
        "data.info()"
      ]
    },
    {
      "cell_type": "code",
      "execution_count": null,
      "metadata": {
        "id": "VgvkbtraFSH5"
      },
      "outputs": [],
      "source": [
        "from sklearn.linear_model import LinearRegression"
      ]
    },
    {
      "cell_type": "code",
      "execution_count": null,
      "metadata": {
        "id": "crJzeMM49EbT"
      },
      "outputs": [],
      "source": [
        "from sklearn.model_selection import train_test_split\n",
        "X_train, X_test, y_train, y_test = train_test_split(X, y, test_size=0.2,random_state=0)"
      ]
    },
    {
      "cell_type": "code",
      "execution_count": null,
      "metadata": {
        "id": "-AKlTu04A780"
      },
      "outputs": [],
      "source": [
        "from sklearn.linear_model import LogisticRegression\n",
        "classifier = LogisticRegression()"
      ]
    },
    {
      "cell_type": "code",
      "execution_count": null,
      "metadata": {
        "colab": {
          "base_uri": "https://localhost:8080/",
          "height": 213
        },
        "id": "fG1T2AGIA-2w",
        "outputId": "63f6ab21-635c-4def-f2b0-2477f03043ac"
      },
      "outputs": [
        {
          "output_type": "stream",
          "name": "stderr",
          "text": [
            "/usr/local/lib/python3.10/dist-packages/sklearn/linear_model/_logistic.py:458: ConvergenceWarning: lbfgs failed to converge (status=1):\n",
            "STOP: TOTAL NO. of ITERATIONS REACHED LIMIT.\n",
            "\n",
            "Increase the number of iterations (max_iter) or scale the data as shown in:\n",
            "    https://scikit-learn.org/stable/modules/preprocessing.html\n",
            "Please also refer to the documentation for alternative solver options:\n",
            "    https://scikit-learn.org/stable/modules/linear_model.html#logistic-regression\n",
            "  n_iter_i = _check_optimize_result(\n"
          ]
        },
        {
          "output_type": "execute_result",
          "data": {
            "text/plain": [
              "LogisticRegression()"
            ],
            "text/html": [
              "<style>#sk-container-id-2 {color: black;background-color: white;}#sk-container-id-2 pre{padding: 0;}#sk-container-id-2 div.sk-toggleable {background-color: white;}#sk-container-id-2 label.sk-toggleable__label {cursor: pointer;display: block;width: 100%;margin-bottom: 0;padding: 0.3em;box-sizing: border-box;text-align: center;}#sk-container-id-2 label.sk-toggleable__label-arrow:before {content: \"▸\";float: left;margin-right: 0.25em;color: #696969;}#sk-container-id-2 label.sk-toggleable__label-arrow:hover:before {color: black;}#sk-container-id-2 div.sk-estimator:hover label.sk-toggleable__label-arrow:before {color: black;}#sk-container-id-2 div.sk-toggleable__content {max-height: 0;max-width: 0;overflow: hidden;text-align: left;background-color: #f0f8ff;}#sk-container-id-2 div.sk-toggleable__content pre {margin: 0.2em;color: black;border-radius: 0.25em;background-color: #f0f8ff;}#sk-container-id-2 input.sk-toggleable__control:checked~div.sk-toggleable__content {max-height: 200px;max-width: 100%;overflow: auto;}#sk-container-id-2 input.sk-toggleable__control:checked~label.sk-toggleable__label-arrow:before {content: \"▾\";}#sk-container-id-2 div.sk-estimator input.sk-toggleable__control:checked~label.sk-toggleable__label {background-color: #d4ebff;}#sk-container-id-2 div.sk-label input.sk-toggleable__control:checked~label.sk-toggleable__label {background-color: #d4ebff;}#sk-container-id-2 input.sk-hidden--visually {border: 0;clip: rect(1px 1px 1px 1px);clip: rect(1px, 1px, 1px, 1px);height: 1px;margin: -1px;overflow: hidden;padding: 0;position: absolute;width: 1px;}#sk-container-id-2 div.sk-estimator {font-family: monospace;background-color: #f0f8ff;border: 1px dotted black;border-radius: 0.25em;box-sizing: border-box;margin-bottom: 0.5em;}#sk-container-id-2 div.sk-estimator:hover {background-color: #d4ebff;}#sk-container-id-2 div.sk-parallel-item::after {content: \"\";width: 100%;border-bottom: 1px solid gray;flex-grow: 1;}#sk-container-id-2 div.sk-label:hover label.sk-toggleable__label {background-color: #d4ebff;}#sk-container-id-2 div.sk-serial::before {content: \"\";position: absolute;border-left: 1px solid gray;box-sizing: border-box;top: 0;bottom: 0;left: 50%;z-index: 0;}#sk-container-id-2 div.sk-serial {display: flex;flex-direction: column;align-items: center;background-color: white;padding-right: 0.2em;padding-left: 0.2em;position: relative;}#sk-container-id-2 div.sk-item {position: relative;z-index: 1;}#sk-container-id-2 div.sk-parallel {display: flex;align-items: stretch;justify-content: center;background-color: white;position: relative;}#sk-container-id-2 div.sk-item::before, #sk-container-id-2 div.sk-parallel-item::before {content: \"\";position: absolute;border-left: 1px solid gray;box-sizing: border-box;top: 0;bottom: 0;left: 50%;z-index: -1;}#sk-container-id-2 div.sk-parallel-item {display: flex;flex-direction: column;z-index: 1;position: relative;background-color: white;}#sk-container-id-2 div.sk-parallel-item:first-child::after {align-self: flex-end;width: 50%;}#sk-container-id-2 div.sk-parallel-item:last-child::after {align-self: flex-start;width: 50%;}#sk-container-id-2 div.sk-parallel-item:only-child::after {width: 0;}#sk-container-id-2 div.sk-dashed-wrapped {border: 1px dashed gray;margin: 0 0.4em 0.5em 0.4em;box-sizing: border-box;padding-bottom: 0.4em;background-color: white;}#sk-container-id-2 div.sk-label label {font-family: monospace;font-weight: bold;display: inline-block;line-height: 1.2em;}#sk-container-id-2 div.sk-label-container {text-align: center;}#sk-container-id-2 div.sk-container {/* jupyter's `normalize.less` sets `[hidden] { display: none; }` but bootstrap.min.css set `[hidden] { display: none !important; }` so we also need the `!important` here to be able to override the default hidden behavior on the sphinx rendered scikit-learn.org. See: https://github.com/scikit-learn/scikit-learn/issues/21755 */display: inline-block !important;position: relative;}#sk-container-id-2 div.sk-text-repr-fallback {display: none;}</style><div id=\"sk-container-id-2\" class=\"sk-top-container\"><div class=\"sk-text-repr-fallback\"><pre>LogisticRegression()</pre><b>In a Jupyter environment, please rerun this cell to show the HTML representation or trust the notebook. <br />On GitHub, the HTML representation is unable to render, please try loading this page with nbviewer.org.</b></div><div class=\"sk-container\" hidden><div class=\"sk-item\"><div class=\"sk-estimator sk-toggleable\"><input class=\"sk-toggleable__control sk-hidden--visually\" id=\"sk-estimator-id-2\" type=\"checkbox\" checked><label for=\"sk-estimator-id-2\" class=\"sk-toggleable__label sk-toggleable__label-arrow\">LogisticRegression</label><div class=\"sk-toggleable__content\"><pre>LogisticRegression()</pre></div></div></div></div></div>"
            ]
          },
          "metadata": {},
          "execution_count": 116
        }
      ],
      "source": [
        "classifier.fit(X_train,y_train)"
      ]
    },
    {
      "cell_type": "code",
      "execution_count": null,
      "metadata": {
        "colab": {
          "base_uri": "https://localhost:8080/"
        },
        "id": "2cLXKplNBEKm",
        "outputId": "5c2bfec0-5d46-4fff-db35-66a65fc087ea"
      },
      "outputs": [
        {
          "output_type": "stream",
          "name": "stdout",
          "text": [
            "Logistic Regression Accuracy: 0.6979473942969519\n"
          ]
        }
      ],
      "source": [
        "from sklearn import metrics\n",
        "predicted = classifier.predict(X_test)\n",
        "print(\"Logistic Regression Accuracy:\",metrics.accuracy_score(y_test, predicted))"
      ]
    },
    {
      "cell_type": "code",
      "execution_count": null,
      "metadata": {
        "id": "7KPHf3-MjYkz"
      },
      "outputs": [],
      "source": [
        "import seaborn as sns"
      ]
    },
    {
      "cell_type": "code",
      "execution_count": null,
      "metadata": {
        "id": "UQ-OIM-BhNVJ"
      },
      "outputs": [],
      "source": [
        "def model_Evaluate(model):\n",
        "    # Predict values for Test dataset\n",
        "    y_pred = model.predict(X_test)\n",
        "\n",
        "    # Print the evaluation metrics for the dataset.\n",
        "    print(classification_report(y_test, y_pred))\n",
        "\n",
        "    # Compute and plot the Confusion matrix\n",
        "    cf_matrix = confusion_matrix(y_test, y_pred)\n",
        "    categories = ['figurative', 'irony', 'regular', 'sarcasm']\n",
        "    cm_percent = cf_matrix.astype('float') / cf_matrix.sum(axis=0)[:, np.newaxis] * 100\n",
        "    print(pd.DataFrame(cf_matrix))\n",
        "\n",
        "    sns.heatmap(cf_matrix, annot=True,cmap = 'Blues',fmt = '.1f',\n",
        "    xticklabels = categories, yticklabels = categories)\n",
        "    plt.xlabel(\"Predicted values\", fontdict = {'size':14}, labelpad = 10)\n",
        "    plt.ylabel(\"Actual values\" , fontdict = {'size':14}, labelpad = 10)\n",
        "    plt.title (\"Confusion Matrix\", fontdict = {'size':18}, pad = 20)"
      ]
    },
    {
      "cell_type": "code",
      "execution_count": null,
      "metadata": {
        "id": "3_jPZd_winLi"
      },
      "outputs": [],
      "source": [
        "from sklearn.naive_bayes import BernoulliNB\n",
        "from sklearn.metrics import confusion_matrix, classification_report"
      ]
    },
    {
      "cell_type": "code",
      "execution_count": null,
      "metadata": {
        "colab": {
          "base_uri": "https://localhost:8080/",
          "height": 787
        },
        "id": "AE2JPg1ik4bU",
        "outputId": "8cc2f53b-09d5-4906-ee5f-51453376f6a4"
      },
      "outputs": [
        {
          "output_type": "stream",
          "name": "stdout",
          "text": [
            "              precision    recall  f1-score   support\n",
            "\n",
            "           0       0.33      0.14      0.19      4174\n",
            "           1       0.66      0.88      0.76      4109\n",
            "           2       0.96      0.98      0.97      3873\n",
            "           3       0.66      0.82      0.73      4116\n",
            "\n",
            "    accuracy                           0.70     16272\n",
            "   macro avg       0.65      0.71      0.66     16272\n",
            "weighted avg       0.65      0.70      0.66     16272\n",
            "\n",
            "     0     1     2     3\n",
            "0  573  1809    50  1742\n",
            "1  432  3620    56     1\n",
            "2   36    43  3788     6\n",
            "3  689     0    32  3395\n"
          ]
        },
        {
          "output_type": "display_data",
          "data": {
            "text/plain": [
              "<Figure size 640x480 with 2 Axes>"
            ],
            "image/png": "[encoded data removed]"
          },
          "metadata": {}
        }
      ],
      "source": [
        "from sklearn.linear_model import LogisticRegression\n",
        "LRmodel = LogisticRegression(C = 2, max_iter = 1000, n_jobs=-1)\n",
        "LRmodel.fit(X_train, y_train)\n",
        "model_Evaluate(LRmodel)\n",
        "y_pred3 = LRmodel.predict(X_test)"
      ]
    },
    {
      "cell_type": "code",
      "execution_count": null,
      "metadata": {
        "colab": {
          "base_uri": "https://localhost:8080/",
          "height": 787
        },
        "id": "tN_WUxVKeu3v",
        "outputId": "87a86645-a04d-49b5-fb0d-828345b535ea"
      },
      "outputs": [
        {
          "output_type": "stream",
          "name": "stdout",
          "text": [
            "              precision    recall  f1-score   support\n",
            "\n",
            "           0       0.28      0.17      0.21      4174\n",
            "           1       0.61      0.71      0.66      4109\n",
            "           2       0.71      0.77      0.74      3873\n",
            "           3       0.66      0.74      0.70      4116\n",
            "\n",
            "    accuracy                           0.60     16272\n",
            "   macro avg       0.56      0.60      0.58     16272\n",
            "weighted avg       0.56      0.60      0.57     16272\n",
            "\n",
            "     0     1     2     3\n",
            "0  714  1490   397  1573\n",
            "1  564  2935   604     6\n",
            "2  461   403  2993    16\n",
            "3  805    19   233  3059\n"
          ]
        },
        {
          "output_type": "display_data",
          "data": {
            "text/plain": [
              "<Figure size 640x480 with 2 Axes>"
            ],
            "image/png": "[encoded data removed]"
          },
          "metadata": {}
        }
      ],
      "source": [
        "BNBmodel = BernoulliNB()\n",
        "BNBmodel.fit(X_train, y_train)\n",
        "model_Evaluate(BNBmodel)\n",
        "y_pred1 = BNBmodel.predict(X_test)\n"
      ]
    },
    {
      "cell_type": "code",
      "execution_count": null,
      "metadata": {
        "colab": {
          "base_uri": "https://localhost:8080/",
          "height": 787
        },
        "id": "vxdiDZjZfFiy",
        "outputId": "9c06a267-9d37-4f2e-bfd8-c68056791884"
      },
      "outputs": [
        {
          "output_type": "stream",
          "name": "stdout",
          "text": [
            "              precision    recall  f1-score   support\n",
            "\n",
            "           0       0.32      0.02      0.03      4174\n",
            "           1       0.66      0.97      0.79      4109\n",
            "           2       0.95      0.98      0.97      3873\n",
            "           3       0.66      0.96      0.78      4116\n",
            "\n",
            "    accuracy                           0.73     16272\n",
            "   macro avg       0.65      0.73      0.64     16272\n",
            "weighted avg       0.64      0.73      0.63     16272\n",
            "\n",
            "    0     1     2     3\n",
            "0  69  1995    68  2042\n",
            "1  43  3985    76     5\n",
            "2  10    46  3806    11\n",
            "3  96     5    48  3967\n"
          ]
        },
        {
          "output_type": "display_data",
          "data": {
            "text/plain": [
              "<Figure size 640x480 with 2 Axes>"
            ],
            "image/png": "[encoded data removed]"
          },
          "metadata": {}
        }
      ],
      "source": [
        "from sklearn.svm import LinearSVC\n",
        "SVCmodel = LinearSVC()\n",
        "SVCmodel.fit(X_train, y_train)\n",
        "model_Evaluate(SVCmodel)\n",
        "y_pred2 = SVCmodel.predict(X_test)"
      ]
    },
    {
      "cell_type": "code",
      "execution_count": null,
      "metadata": {
        "id": "TthFTWn0pu2D"
      },
      "outputs": [],
      "source": [
        "from sklearn.ensemble import RandomForestClassifier\n",
        "from sklearn.metrics import accuracy_score"
      ]
    },
    {
      "cell_type": "code",
      "execution_count": null,
      "metadata": {
        "colab": {
          "base_uri": "https://localhost:8080/",
          "height": 787
        },
        "id": "BuGtfte5pzkj",
        "outputId": "619a5c4f-8876-47da-e1a2-e6138ef3aa4d"
      },
      "outputs": [
        {
          "output_type": "stream",
          "name": "stdout",
          "text": [
            "              precision    recall  f1-score   support\n",
            "\n",
            "           0       0.04      0.02      0.03      4174\n",
            "           1       0.53      0.62      0.57      4109\n",
            "           2       0.93      0.93      0.93      3873\n",
            "           3       0.59      0.73      0.65      4116\n",
            "\n",
            "    accuracy                           0.57     16272\n",
            "   macro avg       0.52      0.58      0.54     16272\n",
            "weighted avg       0.51      0.57      0.54     16272\n",
            "\n",
            "      0     1     2     3\n",
            "0    94  2011    62  2007\n",
            "1  1377  2543   163    26\n",
            "2    34   187  3615    37\n",
            "3   991    74    61  2990\n"
          ]
        },
        {
          "output_type": "display_data",
          "data": {
            "text/plain": [
              "<Figure size 640x480 with 2 Axes>"
            ],
            "image/png": "[encoded data removed]"
          },
          "metadata": {}
        }
      ],
      "source": [
        "rfmodel = RandomForestClassifier()\n",
        "rfmodel.fit(X_train, y_train)\n",
        "model_Evaluate(rfmodel)\n",
        "y_pred2 = rfmodel.predict(X_test)"
      ]
    },
    {
      "cell_type": "code",
      "source": [],
      "metadata": {
        "id": "sW-oU0fi7hqt"
      },
      "execution_count": null,
      "outputs": []
    }
  ],
  "metadata": {
    "colab": {
      "provenance": [],
      "authorship_tag": "ABX9TyOKdWdZTLIJ5x5/xreEUlrx",
      "include_colab_link": true
    },
    "kernelspec": {
      "display_name": "Python 3",
      "name": "python3"
    },
    "language_info": {
      "name": "python"
    }
  },
  "nbformat": 4,
  "nbformat_minor": 0
}